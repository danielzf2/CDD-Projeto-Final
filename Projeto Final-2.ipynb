{
 "cells": [
  {
   "cell_type": "code",
   "execution_count": 19,
   "metadata": {},
   "outputs": [],
   "source": [
    "%matplotlib inline\n",
    "import matplotlib.pyplot as plt\n",
    "import matplotlib\n",
    "import pandas as pd\n",
    "import seaborn as sns"
   ]
  },
  {
   "cell_type": "code",
   "execution_count": 20,
   "metadata": {},
   "outputs": [],
   "source": [
    "dados_filmes= pd.read_csv(\"tmdb_5000_movies.csv\")\n"
   ]
  },
  {
   "cell_type": "code",
   "execution_count": 34,
   "metadata": {},
   "outputs": [
    {
     "data": {
      "text/plain": [
       "4803"
      ]
     },
     "execution_count": 34,
     "metadata": {},
     "output_type": "execute_result"
    }
   ],
   "source": [
    "#Começaremos limpando os dados:\n",
    "\n",
    "#   budget, keywords, titulo, popularity, vote_avarage, vote_count, genres\n",
    "\n",
    "dados_novos = dados_filmes[[\"title\",\"genres\" ,\"keywords\",\"production_companies\",\"original_language\",\"production_countries\",\"runtime\",\"status\",\"spoken_languages\", \"release_date\",\"budget\",\"revenue\", \"vote_average\", \"vote_count\", \"popularity\"]].copy()\n",
    "\n",
    "\n",
    "\n",
    "dados_novos\n",
    "\n",
    "\n"
   ]
  },
  {
   "cell_type": "code",
   "execution_count": 40,
   "metadata": {},
   "outputs": [
    {
     "name": "stdout",
     "output_type": "stream",
     "text": [
      "Existem 0 duplicatas\n"
     ]
    }
   ],
   "source": [
    "#limpagem de duplicatas\n",
    "\n",
    "a=dados_novos.duplicated(keep= \"first\")\n",
    "\n",
    "x=0\n",
    "for e in a:\n",
    "    if e == 1:\n",
    "        x+=1\n",
    "        \n",
    "print(\"Existem {} duplicatas\".format(x))"
   ]
  },
  {
   "cell_type": "code",
   "execution_count": null,
   "metadata": {},
   "outputs": [],
   "source": []
  }
 ],
 "metadata": {
  "kernelspec": {
   "display_name": "Python 3",
   "language": "python",
   "name": "python3"
  },
  "language_info": {
   "codemirror_mode": {
    "name": "ipython",
    "version": 3
   },
   "file_extension": ".py",
   "mimetype": "text/x-python",
   "name": "python",
   "nbconvert_exporter": "python",
   "pygments_lexer": "ipython3",
   "version": "3.6.4"
  }
 },
 "nbformat": 4,
 "nbformat_minor": 2
}
