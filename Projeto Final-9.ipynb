{
 "cells": [
  {
   "cell_type": "markdown",
   "metadata": {},
   "source": [
    "#                     Projeto Final CDD- Prever a nota de um filme no IMDB\n",
    "\n",
    "<img src=\"https://img.buzzfeed.com/buzzfeed-static/static/2015-11/2/11/enhanced/webdr05/anigif_enhanced-29363-1446481605-18.gif?downsize=800:*&output-format=auto&output-quality=auto\" width=200 heigth=200 \\>"
   ]
  },
  {
   "cell_type": "markdown",
   "metadata": {},
   "source": [
    "André Vital Tavernaro\n",
    "\n",
    "\n",
    "Daniel Zelv Freund\n",
    "\n",
    "\n",
    "Guilherme Batista"
   ]
  },
  {
   "cell_type": "markdown",
   "metadata": {},
   "source": [
    "## LEITURA DOS DADOS"
   ]
  },
  {
   "cell_type": "code",
   "execution_count": 740,
   "metadata": {},
   "outputs": [],
   "source": [
    "%matplotlib inline\n",
    "import matplotlib.pyplot as plt\n",
    "import matplotlib\n",
    "import pandas as pd\n",
    "import seaborn as sns\n",
    "import numpy as np\n",
    "from scipy.stats import norm, probplot\n",
    "import statsmodels.api as sm\n",
    "from mpl_toolkits.mplot3d import Axes3D\n",
    "import json\n",
    "\n",
    "RANDOM_SEED = 42\n",
    "\n",
    "np.random.seed(RANDOM_SEED)"
   ]
  },
  {
   "cell_type": "code",
   "execution_count": 741,
   "metadata": {},
   "outputs": [],
   "source": [
    "### Função utilizada para fazer a regressão com constante adicionada\n",
    "def regress(X,Y):\n",
    "    X_cp = sm.add_constant(X)\n",
    "    model = sm.OLS(Y,X_cp)\n",
    "    results = model.fit()\n",
    "    return results"
   ]
  },
  {
   "cell_type": "code",
   "execution_count": 742,
   "metadata": {},
   "outputs": [],
   "source": [
    "def verificador_nulo(dataframe):\n",
    "    for e in dataframe.columns.tolist():\n",
    "        valores_nulos = len(dataframe[dataframe[e]==0])\n",
    "        if valores_nulos > 0:\n",
    "            print('{0} {1}' .format(valores_nulos, e))"
   ]
  },
  {
   "cell_type": "code",
   "execution_count": 743,
   "metadata": {},
   "outputs": [],
   "source": [
    "dados_filmes= pd.read_csv(\"tmdb_5000_movies.csv\")"
   ]
  },
  {
   "cell_type": "markdown",
   "metadata": {},
   "source": [
    "#### Tiramos os valores nulos do dataframe da coluna budget"
   ]
  },
  {
   "cell_type": "code",
   "execution_count": 744,
   "metadata": {},
   "outputs": [
    {
     "data": {
      "text/html": [
       "<div>\n",
       "<style scoped>\n",
       "    .dataframe tbody tr th:only-of-type {\n",
       "        vertical-align: middle;\n",
       "    }\n",
       "\n",
       "    .dataframe tbody tr th {\n",
       "        vertical-align: top;\n",
       "    }\n",
       "\n",
       "    .dataframe thead th {\n",
       "        text-align: right;\n",
       "    }\n",
       "</style>\n",
       "<table border=\"1\" class=\"dataframe\">\n",
       "  <thead>\n",
       "    <tr style=\"text-align: right;\">\n",
       "      <th></th>\n",
       "      <th>budget</th>\n",
       "      <th>genres</th>\n",
       "      <th>homepage</th>\n",
       "      <th>id</th>\n",
       "      <th>keywords</th>\n",
       "      <th>original_language</th>\n",
       "      <th>original_title</th>\n",
       "      <th>overview</th>\n",
       "      <th>popularity</th>\n",
       "      <th>production_companies</th>\n",
       "      <th>production_countries</th>\n",
       "      <th>release_date</th>\n",
       "      <th>revenue</th>\n",
       "      <th>runtime</th>\n",
       "      <th>spoken_languages</th>\n",
       "      <th>status</th>\n",
       "      <th>tagline</th>\n",
       "      <th>title</th>\n",
       "      <th>vote_average</th>\n",
       "      <th>vote_count</th>\n",
       "    </tr>\n",
       "  </thead>\n",
       "  <tbody>\n",
       "    <tr>\n",
       "      <th>4800</th>\n",
       "      <td>0</td>\n",
       "      <td>[{\"id\": 35, \"name\": \"Comedy\"}, {\"id\": 18, \"nam...</td>\n",
       "      <td>http://www.hallmarkchannel.com/signedsealeddel...</td>\n",
       "      <td>231617</td>\n",
       "      <td>[{\"id\": 248, \"name\": \"date\"}, {\"id\": 699, \"nam...</td>\n",
       "      <td>en</td>\n",
       "      <td>Signed, Sealed, Delivered</td>\n",
       "      <td>\"Signed, Sealed, Delivered\" introduces a dedic...</td>\n",
       "      <td>1.444476</td>\n",
       "      <td>[{\"name\": \"Front Street Pictures\", \"id\": 3958}...</td>\n",
       "      <td>[{\"iso_3166_1\": \"US\", \"name\": \"United States o...</td>\n",
       "      <td>2013-10-13</td>\n",
       "      <td>0</td>\n",
       "      <td>120.0</td>\n",
       "      <td>[{\"iso_639_1\": \"en\", \"name\": \"English\"}]</td>\n",
       "      <td>Released</td>\n",
       "      <td>NaN</td>\n",
       "      <td>Signed, Sealed, Delivered</td>\n",
       "      <td>7.0</td>\n",
       "      <td>6</td>\n",
       "    </tr>\n",
       "    <tr>\n",
       "      <th>4801</th>\n",
       "      <td>0</td>\n",
       "      <td>[]</td>\n",
       "      <td>http://shanghaicalling.com/</td>\n",
       "      <td>126186</td>\n",
       "      <td>[]</td>\n",
       "      <td>en</td>\n",
       "      <td>Shanghai Calling</td>\n",
       "      <td>When ambitious New York attorney Sam is sent t...</td>\n",
       "      <td>0.857008</td>\n",
       "      <td>[]</td>\n",
       "      <td>[{\"iso_3166_1\": \"US\", \"name\": \"United States o...</td>\n",
       "      <td>2012-05-03</td>\n",
       "      <td>0</td>\n",
       "      <td>98.0</td>\n",
       "      <td>[{\"iso_639_1\": \"en\", \"name\": \"English\"}]</td>\n",
       "      <td>Released</td>\n",
       "      <td>A New Yorker in Shanghai</td>\n",
       "      <td>Shanghai Calling</td>\n",
       "      <td>5.7</td>\n",
       "      <td>7</td>\n",
       "    </tr>\n",
       "    <tr>\n",
       "      <th>4802</th>\n",
       "      <td>0</td>\n",
       "      <td>[{\"id\": 99, \"name\": \"Documentary\"}]</td>\n",
       "      <td>NaN</td>\n",
       "      <td>25975</td>\n",
       "      <td>[{\"id\": 1523, \"name\": \"obsession\"}, {\"id\": 224...</td>\n",
       "      <td>en</td>\n",
       "      <td>My Date with Drew</td>\n",
       "      <td>Ever since the second grade when he first saw ...</td>\n",
       "      <td>1.929883</td>\n",
       "      <td>[{\"name\": \"rusty bear entertainment\", \"id\": 87...</td>\n",
       "      <td>[{\"iso_3166_1\": \"US\", \"name\": \"United States o...</td>\n",
       "      <td>2005-08-05</td>\n",
       "      <td>0</td>\n",
       "      <td>90.0</td>\n",
       "      <td>[{\"iso_639_1\": \"en\", \"name\": \"English\"}]</td>\n",
       "      <td>Released</td>\n",
       "      <td>NaN</td>\n",
       "      <td>My Date with Drew</td>\n",
       "      <td>6.3</td>\n",
       "      <td>16</td>\n",
       "    </tr>\n",
       "  </tbody>\n",
       "</table>\n",
       "</div>"
      ],
      "text/plain": [
       "      budget                                             genres  \\\n",
       "4800       0  [{\"id\": 35, \"name\": \"Comedy\"}, {\"id\": 18, \"nam...   \n",
       "4801       0                                                 []   \n",
       "4802       0                [{\"id\": 99, \"name\": \"Documentary\"}]   \n",
       "\n",
       "                                               homepage      id  \\\n",
       "4800  http://www.hallmarkchannel.com/signedsealeddel...  231617   \n",
       "4801                        http://shanghaicalling.com/  126186   \n",
       "4802                                                NaN   25975   \n",
       "\n",
       "                                               keywords original_language  \\\n",
       "4800  [{\"id\": 248, \"name\": \"date\"}, {\"id\": 699, \"nam...                en   \n",
       "4801                                                 []                en   \n",
       "4802  [{\"id\": 1523, \"name\": \"obsession\"}, {\"id\": 224...                en   \n",
       "\n",
       "                 original_title  \\\n",
       "4800  Signed, Sealed, Delivered   \n",
       "4801           Shanghai Calling   \n",
       "4802          My Date with Drew   \n",
       "\n",
       "                                               overview  popularity  \\\n",
       "4800  \"Signed, Sealed, Delivered\" introduces a dedic...    1.444476   \n",
       "4801  When ambitious New York attorney Sam is sent t...    0.857008   \n",
       "4802  Ever since the second grade when he first saw ...    1.929883   \n",
       "\n",
       "                                   production_companies  \\\n",
       "4800  [{\"name\": \"Front Street Pictures\", \"id\": 3958}...   \n",
       "4801                                                 []   \n",
       "4802  [{\"name\": \"rusty bear entertainment\", \"id\": 87...   \n",
       "\n",
       "                                   production_countries release_date  revenue  \\\n",
       "4800  [{\"iso_3166_1\": \"US\", \"name\": \"United States o...   2013-10-13        0   \n",
       "4801  [{\"iso_3166_1\": \"US\", \"name\": \"United States o...   2012-05-03        0   \n",
       "4802  [{\"iso_3166_1\": \"US\", \"name\": \"United States o...   2005-08-05        0   \n",
       "\n",
       "      runtime                          spoken_languages    status  \\\n",
       "4800    120.0  [{\"iso_639_1\": \"en\", \"name\": \"English\"}]  Released   \n",
       "4801     98.0  [{\"iso_639_1\": \"en\", \"name\": \"English\"}]  Released   \n",
       "4802     90.0  [{\"iso_639_1\": \"en\", \"name\": \"English\"}]  Released   \n",
       "\n",
       "                       tagline                      title  vote_average  \\\n",
       "4800                       NaN  Signed, Sealed, Delivered           7.0   \n",
       "4801  A New Yorker in Shanghai           Shanghai Calling           5.7   \n",
       "4802                       NaN          My Date with Drew           6.3   \n",
       "\n",
       "      vote_count  \n",
       "4800           6  \n",
       "4801           7  \n",
       "4802          16  "
      ]
     },
     "execution_count": 744,
     "metadata": {},
     "output_type": "execute_result"
    }
   ],
   "source": [
    "dados_filmes.tail(3)"
   ]
  },
  {
   "cell_type": "markdown",
   "metadata": {},
   "source": [
    "## Construção e Limpeza do Dataframe"
   ]
  },
  {
   "cell_type": "code",
   "execution_count": 745,
   "metadata": {},
   "outputs": [],
   "source": [
    "dados_novos = dados_filmes[[\"title\",\"runtime\",\"budget\",\"revenue\", \"vote_average\", \n",
    "                            \"vote_count\", \"popularity\",\"genres\",'release_date']].copy()"
   ]
  },
  {
   "cell_type": "code",
   "execution_count": 746,
   "metadata": {},
   "outputs": [
    {
     "name": "stdout",
     "output_type": "stream",
     "text": [
      "35 runtime\n",
      "1037 budget\n",
      "1427 revenue\n",
      "63 vote_average\n",
      "62 vote_count\n",
      "1 popularity\n"
     ]
    }
   ],
   "source": [
    "verificador_nulo(dados_novos)"
   ]
  },
  {
   "cell_type": "code",
   "execution_count": 747,
   "metadata": {},
   "outputs": [],
   "source": [
    "dados_novos.drop(dados_novos[dados_novos[\"budget\"]==0].index,inplace=True)\n",
    "dados_novos.drop(dados_novos[dados_novos[\"revenue\"]==0].index,inplace=True)"
   ]
  },
  {
   "cell_type": "code",
   "execution_count": 748,
   "metadata": {},
   "outputs": [
    {
     "name": "stdout",
     "output_type": "stream",
     "text": [
      "2 vote_average\n",
      "2 vote_count\n"
     ]
    }
   ],
   "source": [
    "verificador_nulo(dados_novos)"
   ]
  },
  {
   "cell_type": "code",
   "execution_count": 749,
   "metadata": {},
   "outputs": [],
   "source": [
    "# mediana = dados_novos.revenue.median()\n",
    "# dados_novos = dados_novos.replace(0, mediana)"
   ]
  },
  {
   "cell_type": "markdown",
   "metadata": {},
   "source": [
    "Apagar os valores nulos de dados_novos (vote_average e vote_count abaixaram a precisão do calculador)"
   ]
  },
  {
   "cell_type": "markdown",
   "metadata": {},
   "source": [
    "#### Criação de colunas com o nome dos generos, sendo 1 para quando o filme é daquela categoria e 0 para quando não é , isso foi feito para tirar a coluna genre"
   ]
  },
  {
   "cell_type": "code",
   "execution_count": 750,
   "metadata": {},
   "outputs": [],
   "source": [
    "genres = set()\n",
    "for x in dados_novos['genres']:\n",
    "    for g in json.loads(x):\n",
    "        genres.add(g[\"name\"])"
   ]
  },
  {
   "cell_type": "markdown",
   "metadata": {},
   "source": [
    "#### Criacão do novo dataframe incluindo as novas colunas de gênero"
   ]
  },
  {
   "cell_type": "code",
   "execution_count": 751,
   "metadata": {},
   "outputs": [],
   "source": [
    "def extrai_generos(item):\n",
    "    generos = {'c_' + x: 0 for x in ['Action', 'Adventure', 'Animation', 'Comedy', 'Crime', \n",
    "                              'Documentary', 'Drama', 'Family', 'Fantasy', 'Foreign', \n",
    "                              'History', 'Horror', 'Music', 'Mystery', 'Romance', \n",
    "                              'Science Fiction', 'TV Movie', 'Thriller', 'War', 'Western']}\n",
    "    for g in json.loads(item):\n",
    "        generos['c_' + g['name']] += 1\n",
    "    return generos\n",
    "\n",
    "dados_generos = pd.DataFrame(list(dados_novos['genres'].apply(extrai_generos).values))\n",
    "\n",
    "dados_novos_junto = dados_novos.join(dados_generos)\n",
    "\n",
    "dados_novos_junto.set_index(\"title\",inplace=True)\n",
    "\n",
    "dados_novos_junto.drop(columns= \"genres\", inplace=True)"
   ]
  },
  {
   "cell_type": "markdown",
   "metadata": {},
   "source": [
    "#### Criação de novas colunas que contém o mês, ano, e dia , cada uma em sua própia coluna no dataframe "
   ]
  },
  {
   "cell_type": "code",
   "execution_count": 752,
   "metadata": {},
   "outputs": [],
   "source": [
    "dados_novos_junto['year'] , dados_novos_junto['month'] , dados_novos_junto['day'] = dados_novos_junto['release_date'].str.split('-',2).str\n",
    "dados_novos_junto['year'] = pd.to_numeric(dados_novos_junto['year'])\n",
    "dados_novos_junto['month'] = pd.to_numeric(dados_novos_junto['month'])\n",
    "dados_novos_junto['day']  = pd.to_numeric(dados_novos_junto['day'] )"
   ]
  },
  {
   "cell_type": "code",
   "execution_count": 753,
   "metadata": {},
   "outputs": [
    {
     "data": {
      "text/html": [
       "<div>\n",
       "<style scoped>\n",
       "    .dataframe tbody tr th:only-of-type {\n",
       "        vertical-align: middle;\n",
       "    }\n",
       "\n",
       "    .dataframe tbody tr th {\n",
       "        vertical-align: top;\n",
       "    }\n",
       "\n",
       "    .dataframe thead th {\n",
       "        text-align: right;\n",
       "    }\n",
       "</style>\n",
       "<table border=\"1\" class=\"dataframe\">\n",
       "  <thead>\n",
       "    <tr style=\"text-align: right;\">\n",
       "      <th></th>\n",
       "      <th>runtime</th>\n",
       "      <th>budget</th>\n",
       "      <th>revenue</th>\n",
       "      <th>vote_average</th>\n",
       "      <th>vote_count</th>\n",
       "      <th>popularity</th>\n",
       "      <th>release_date</th>\n",
       "      <th>c_Action</th>\n",
       "      <th>c_Adventure</th>\n",
       "      <th>c_Animation</th>\n",
       "      <th>...</th>\n",
       "      <th>c_Mystery</th>\n",
       "      <th>c_Romance</th>\n",
       "      <th>c_Science Fiction</th>\n",
       "      <th>c_TV Movie</th>\n",
       "      <th>c_Thriller</th>\n",
       "      <th>c_War</th>\n",
       "      <th>c_Western</th>\n",
       "      <th>year</th>\n",
       "      <th>month</th>\n",
       "      <th>day</th>\n",
       "    </tr>\n",
       "    <tr>\n",
       "      <th>title</th>\n",
       "      <th></th>\n",
       "      <th></th>\n",
       "      <th></th>\n",
       "      <th></th>\n",
       "      <th></th>\n",
       "      <th></th>\n",
       "      <th></th>\n",
       "      <th></th>\n",
       "      <th></th>\n",
       "      <th></th>\n",
       "      <th></th>\n",
       "      <th></th>\n",
       "      <th></th>\n",
       "      <th></th>\n",
       "      <th></th>\n",
       "      <th></th>\n",
       "      <th></th>\n",
       "      <th></th>\n",
       "      <th></th>\n",
       "      <th></th>\n",
       "      <th></th>\n",
       "    </tr>\n",
       "  </thead>\n",
       "  <tbody>\n",
       "    <tr>\n",
       "      <th>Cure</th>\n",
       "      <td>111.0</td>\n",
       "      <td>20000</td>\n",
       "      <td>99000</td>\n",
       "      <td>7.4</td>\n",
       "      <td>63</td>\n",
       "      <td>0.212443</td>\n",
       "      <td>1997-11-06</td>\n",
       "      <td>NaN</td>\n",
       "      <td>NaN</td>\n",
       "      <td>NaN</td>\n",
       "      <td>...</td>\n",
       "      <td>NaN</td>\n",
       "      <td>NaN</td>\n",
       "      <td>NaN</td>\n",
       "      <td>NaN</td>\n",
       "      <td>NaN</td>\n",
       "      <td>NaN</td>\n",
       "      <td>NaN</td>\n",
       "      <td>1997</td>\n",
       "      <td>11</td>\n",
       "      <td>6</td>\n",
       "    </tr>\n",
       "    <tr>\n",
       "      <th>Primer</th>\n",
       "      <td>77.0</td>\n",
       "      <td>7000</td>\n",
       "      <td>424760</td>\n",
       "      <td>6.9</td>\n",
       "      <td>658</td>\n",
       "      <td>23.307949</td>\n",
       "      <td>2004-10-08</td>\n",
       "      <td>NaN</td>\n",
       "      <td>NaN</td>\n",
       "      <td>NaN</td>\n",
       "      <td>...</td>\n",
       "      <td>NaN</td>\n",
       "      <td>NaN</td>\n",
       "      <td>NaN</td>\n",
       "      <td>NaN</td>\n",
       "      <td>NaN</td>\n",
       "      <td>NaN</td>\n",
       "      <td>NaN</td>\n",
       "      <td>2004</td>\n",
       "      <td>10</td>\n",
       "      <td>8</td>\n",
       "    </tr>\n",
       "    <tr>\n",
       "      <th>El Mariachi</th>\n",
       "      <td>81.0</td>\n",
       "      <td>220000</td>\n",
       "      <td>2040920</td>\n",
       "      <td>6.6</td>\n",
       "      <td>238</td>\n",
       "      <td>14.269792</td>\n",
       "      <td>1992-09-04</td>\n",
       "      <td>NaN</td>\n",
       "      <td>NaN</td>\n",
       "      <td>NaN</td>\n",
       "      <td>...</td>\n",
       "      <td>NaN</td>\n",
       "      <td>NaN</td>\n",
       "      <td>NaN</td>\n",
       "      <td>NaN</td>\n",
       "      <td>NaN</td>\n",
       "      <td>NaN</td>\n",
       "      <td>NaN</td>\n",
       "      <td>1992</td>\n",
       "      <td>9</td>\n",
       "      <td>4</td>\n",
       "    </tr>\n",
       "  </tbody>\n",
       "</table>\n",
       "<p>3 rows × 30 columns</p>\n",
       "</div>"
      ],
      "text/plain": [
       "             runtime  budget  revenue  vote_average  vote_count  popularity  \\\n",
       "title                                                                         \n",
       "Cure           111.0   20000    99000           7.4          63    0.212443   \n",
       "Primer          77.0    7000   424760           6.9         658   23.307949   \n",
       "El Mariachi     81.0  220000  2040920           6.6         238   14.269792   \n",
       "\n",
       "            release_date  c_Action  c_Adventure  c_Animation ...   c_Mystery  \\\n",
       "title                                                        ...               \n",
       "Cure          1997-11-06       NaN          NaN          NaN ...         NaN   \n",
       "Primer        2004-10-08       NaN          NaN          NaN ...         NaN   \n",
       "El Mariachi   1992-09-04       NaN          NaN          NaN ...         NaN   \n",
       "\n",
       "             c_Romance  c_Science Fiction  c_TV Movie  c_Thriller  c_War  \\\n",
       "title                                                                      \n",
       "Cure               NaN                NaN         NaN         NaN    NaN   \n",
       "Primer             NaN                NaN         NaN         NaN    NaN   \n",
       "El Mariachi        NaN                NaN         NaN         NaN    NaN   \n",
       "\n",
       "             c_Western  year  month  day  \n",
       "title                                     \n",
       "Cure               NaN  1997     11    6  \n",
       "Primer             NaN  2004     10    8  \n",
       "El Mariachi        NaN  1992      9    4  \n",
       "\n",
       "[3 rows x 30 columns]"
      ]
     },
     "execution_count": 753,
     "metadata": {},
     "output_type": "execute_result"
    }
   ],
   "source": [
    "dados_novos_junto.tail(3)"
   ]
  },
  {
   "cell_type": "code",
   "execution_count": 754,
   "metadata": {},
   "outputs": [
    {
     "data": {
      "image/png": "[encoded data removed]",
      "text/plain": [
       "<matplotlib.figure.Figure at 0x17a8f531a58>"
      ]
     },
     "metadata": {},
     "output_type": "display_data"
    }
   ],
   "source": [
    "dados_novos_junto['budget'].plot.hist();"
   ]
  },
  {
   "cell_type": "code",
   "execution_count": 755,
   "metadata": {},
   "outputs": [],
   "source": [
    "dados_novos_junto.drop(dados_novos_junto[dados_novos_junto['budget'] > dados_novos_junto['budget'].quantile(q=0.98)].index,inplace=True)"
   ]
  },
  {
   "cell_type": "code",
   "execution_count": 756,
   "metadata": {},
   "outputs": [
    {
     "data": {
      "image/png": "[encoded data removed]",
      "text/plain": [
       "<matplotlib.figure.Figure at 0x17a876b9e10>"
      ]
     },
     "metadata": {},
     "output_type": "display_data"
    }
   ],
   "source": [
    "import pandas as pd\n",
    "from sklearn import preprocessing\n",
    "# Create x, where x the 'scores' column's values as floats\n",
    "x = dados_novos_junto[['budget']].values.astype(float)\n",
    "\n",
    "# Create a minimum and maximum processor object\n",
    "min_max_scaler = preprocessing.MinMaxScaler()\n",
    "\n",
    "# Create an object to transform the data to fit minmax processor\n",
    "x_scaled = min_max_scaler.fit_transform(x)\n",
    "\n",
    "# Run the normalizer on the dataframe\n",
    "df_normalized = pd.DataFrame(x_scaled)\n",
    "df_normalized.plot.hist();"
   ]
  },
  {
   "cell_type": "code",
   "execution_count": 757,
   "metadata": {},
   "outputs": [
    {
     "data": {
      "text/plain": [
       "<matplotlib.axes._subplots.AxesSubplot at 0x17a876c4e10>"
      ]
     },
     "execution_count": 757,
     "metadata": {},
     "output_type": "execute_result"
    },
    {
     "data": {
      "image/png": "[encoded data removed]",
      "text/plain": [
       "<matplotlib.figure.Figure at 0x17a804f14a8>"
      ]
     },
     "metadata": {},
     "output_type": "display_data"
    }
   ],
   "source": [
    "dados_novos_junto.budget = x_scaled\n",
    "dados_novos_junto.budget.plot.hist()"
   ]
  },
  {
   "cell_type": "markdown",
   "metadata": {},
   "source": [
    "## Cálculo e acuracia"
   ]
  },
  {
   "cell_type": "markdown",
   "metadata": {},
   "source": [
    "**Dicionário de dados:**\n",
    "\n",
    "\n",
    "Variável | Descrição\n",
    ":---:|---:\n",
    "title | Título do filme\n",
    "runtime | Tempo de filme\n",
    "budget | Orçamento\n",
    "revenue | Receita\n",
    "vote_average | Média dos votos\n",
    "vote_count | Número de votos das pessoas\n",
    "popularity | Popularidade\n",
    "genres | Os diferentes gêneros de filme\n",
    "c_Action | 0: não pertence; 1: pertence (gênero)\n",
    "c_Adventure | 0: não pertence; 1: pertence (gênero)\n",
    "c_Animation | 0: não pertence; 1: pertence (gênero)\n",
    "c_Comedy | 0: não pertence; 1: pertence (gênero)\n",
    "c_Crime | 0: não pertence; 1: pertence (gênero)\n",
    "c_Documentary | 0: não pertence; 1: pertence (gênero)\n",
    "c_Drama | 0: não pertence; 1: pertence (gênero)\n",
    "c_Family | 0: não pertence; 1: pertence (gênero)\n",
    "c_Fantasy | 0: não pertence; 1: pertence (gênero)\n",
    "c_Foreign | 0: não pertence; 1: pertence (gênero)\n",
    "c_History | 0: não pertence; 1: pertence (gênero)\n",
    "c_Horror | 0: não pertence; 1: pertence (gênero)\n",
    "c_Music | 0: não pertence; 1: pertence (gênero)\n",
    "c_Mystery | 0: não pertence; 1: pertence (gênero)\n",
    "c_Romance | 0: não pertence; 1: pertence (gênero)\n",
    "c_Science Fiction | 0: não pertence; 1: pertence (gênero)\n",
    "c_TV Movie | 0: não pertence; 1: pertence (gênero)\n",
    "c_Thriller | 0: não pertence; 1: pertence (gênero)\n",
    "c_War | 0: não pertence; 1: pertence (gênero)\n",
    "c_Western | 0: não pertence; 1: pertence (gênero)\n",
    "ano | ano em que o filme foi lançado\n",
    "mês | mês em que o filme foi lançado\n",
    "dia | dia em que o filme foi lançado"
   ]
  },
  {
   "cell_type": "markdown",
   "metadata": {},
   "source": [
    "### Verificando e limpando os  valores nulos e inválidos das variáveis em certa coluna"
   ]
  },
  {
   "cell_type": "code",
   "execution_count": 758,
   "metadata": {},
   "outputs": [],
   "source": [
    "df = dados_novos_junto\n",
    "df = df.dropna()"
   ]
  },
  {
   "cell_type": "markdown",
   "metadata": {},
   "source": [
    "## Com a ajuda do comando Describe, poderemos analisar fatores importantes do Dataframe\n",
    "\n",
    "\n",
    " "
   ]
  },
  {
   "cell_type": "code",
   "execution_count": 759,
   "metadata": {},
   "outputs": [
    {
     "data": {
      "text/html": [
       "<div>\n",
       "<style scoped>\n",
       "    .dataframe tbody tr th:only-of-type {\n",
       "        vertical-align: middle;\n",
       "    }\n",
       "\n",
       "    .dataframe tbody tr th {\n",
       "        vertical-align: top;\n",
       "    }\n",
       "\n",
       "    .dataframe thead th {\n",
       "        text-align: right;\n",
       "    }\n",
       "</style>\n",
       "<table border=\"1\" class=\"dataframe\">\n",
       "  <thead>\n",
       "    <tr style=\"text-align: right;\">\n",
       "      <th></th>\n",
       "      <th>runtime</th>\n",
       "      <th>budget</th>\n",
       "      <th>revenue</th>\n",
       "      <th>vote_average</th>\n",
       "      <th>vote_count</th>\n",
       "      <th>popularity</th>\n",
       "      <th>c_Action</th>\n",
       "      <th>c_Adventure</th>\n",
       "      <th>c_Animation</th>\n",
       "      <th>c_Comedy</th>\n",
       "      <th>...</th>\n",
       "      <th>c_Mystery</th>\n",
       "      <th>c_Romance</th>\n",
       "      <th>c_Science Fiction</th>\n",
       "      <th>c_TV Movie</th>\n",
       "      <th>c_Thriller</th>\n",
       "      <th>c_War</th>\n",
       "      <th>c_Western</th>\n",
       "      <th>year</th>\n",
       "      <th>month</th>\n",
       "      <th>day</th>\n",
       "    </tr>\n",
       "  </thead>\n",
       "  <tbody>\n",
       "    <tr>\n",
       "      <th>count</th>\n",
       "      <td>3164.000000</td>\n",
       "      <td>3164.000000</td>\n",
       "      <td>3.164000e+03</td>\n",
       "      <td>3164.000000</td>\n",
       "      <td>3164.000000</td>\n",
       "      <td>3164.000000</td>\n",
       "      <td>2507.000000</td>\n",
       "      <td>2507.000000</td>\n",
       "      <td>2507.000000</td>\n",
       "      <td>2507.000000</td>\n",
       "      <td>...</td>\n",
       "      <td>2507.000000</td>\n",
       "      <td>2507.000000</td>\n",
       "      <td>2507.000000</td>\n",
       "      <td>2507.0</td>\n",
       "      <td>2507.000000</td>\n",
       "      <td>2507.000000</td>\n",
       "      <td>2507.000000</td>\n",
       "      <td>3164.000000</td>\n",
       "      <td>3164.000000</td>\n",
       "      <td>3164.000000</td>\n",
       "    </tr>\n",
       "    <tr>\n",
       "      <th>mean</th>\n",
       "      <td>110.262010</td>\n",
       "      <td>0.211794</td>\n",
       "      <td>1.083526e+08</td>\n",
       "      <td>6.304362</td>\n",
       "      <td>903.080910</td>\n",
       "      <td>27.843907</td>\n",
       "      <td>0.295174</td>\n",
       "      <td>0.209813</td>\n",
       "      <td>0.063422</td>\n",
       "      <td>0.353410</td>\n",
       "      <td>...</td>\n",
       "      <td>0.086957</td>\n",
       "      <td>0.168728</td>\n",
       "      <td>0.136418</td>\n",
       "      <td>0.0</td>\n",
       "      <td>0.302353</td>\n",
       "      <td>0.037894</td>\n",
       "      <td>0.014759</td>\n",
       "      <td>2001.490834</td>\n",
       "      <td>6.997788</td>\n",
       "      <td>15.495891</td>\n",
       "    </tr>\n",
       "    <tr>\n",
       "      <th>std</th>\n",
       "      <td>20.673698</td>\n",
       "      <td>0.209538</td>\n",
       "      <td>1.520875e+08</td>\n",
       "      <td>0.876186</td>\n",
       "      <td>1280.867937</td>\n",
       "      <td>35.107713</td>\n",
       "      <td>0.456212</td>\n",
       "      <td>0.407256</td>\n",
       "      <td>0.243770</td>\n",
       "      <td>0.478124</td>\n",
       "      <td>...</td>\n",
       "      <td>0.281828</td>\n",
       "      <td>0.374586</td>\n",
       "      <td>0.343300</td>\n",
       "      <td>0.0</td>\n",
       "      <td>0.459369</td>\n",
       "      <td>0.190978</td>\n",
       "      <td>0.120610</td>\n",
       "      <td>13.338118</td>\n",
       "      <td>3.376613</td>\n",
       "      <td>8.477247</td>\n",
       "    </tr>\n",
       "    <tr>\n",
       "      <th>min</th>\n",
       "      <td>41.000000</td>\n",
       "      <td>0.000000</td>\n",
       "      <td>5.000000e+00</td>\n",
       "      <td>0.000000</td>\n",
       "      <td>0.000000</td>\n",
       "      <td>0.019984</td>\n",
       "      <td>0.000000</td>\n",
       "      <td>0.000000</td>\n",
       "      <td>0.000000</td>\n",
       "      <td>0.000000</td>\n",
       "      <td>...</td>\n",
       "      <td>0.000000</td>\n",
       "      <td>0.000000</td>\n",
       "      <td>0.000000</td>\n",
       "      <td>0.0</td>\n",
       "      <td>0.000000</td>\n",
       "      <td>0.000000</td>\n",
       "      <td>0.000000</td>\n",
       "      <td>1916.000000</td>\n",
       "      <td>1.000000</td>\n",
       "      <td>1.000000</td>\n",
       "    </tr>\n",
       "    <tr>\n",
       "      <th>25%</th>\n",
       "      <td>96.000000</td>\n",
       "      <td>0.057143</td>\n",
       "      <td>1.678929e+07</td>\n",
       "      <td>5.800000</td>\n",
       "      <td>170.750000</td>\n",
       "      <td>10.232095</td>\n",
       "      <td>0.000000</td>\n",
       "      <td>0.000000</td>\n",
       "      <td>0.000000</td>\n",
       "      <td>0.000000</td>\n",
       "      <td>...</td>\n",
       "      <td>0.000000</td>\n",
       "      <td>0.000000</td>\n",
       "      <td>0.000000</td>\n",
       "      <td>0.0</td>\n",
       "      <td>0.000000</td>\n",
       "      <td>0.000000</td>\n",
       "      <td>0.000000</td>\n",
       "      <td>1998.000000</td>\n",
       "      <td>4.000000</td>\n",
       "      <td>9.000000</td>\n",
       "    </tr>\n",
       "    <tr>\n",
       "      <th>50%</th>\n",
       "      <td>107.000000</td>\n",
       "      <td>0.142857</td>\n",
       "      <td>5.318463e+07</td>\n",
       "      <td>6.300000</td>\n",
       "      <td>453.000000</td>\n",
       "      <td>19.943755</td>\n",
       "      <td>0.000000</td>\n",
       "      <td>0.000000</td>\n",
       "      <td>0.000000</td>\n",
       "      <td>0.000000</td>\n",
       "      <td>...</td>\n",
       "      <td>0.000000</td>\n",
       "      <td>0.000000</td>\n",
       "      <td>0.000000</td>\n",
       "      <td>0.0</td>\n",
       "      <td>0.000000</td>\n",
       "      <td>0.000000</td>\n",
       "      <td>0.000000</td>\n",
       "      <td>2005.000000</td>\n",
       "      <td>7.000000</td>\n",
       "      <td>15.000000</td>\n",
       "    </tr>\n",
       "    <tr>\n",
       "      <th>75%</th>\n",
       "      <td>120.000000</td>\n",
       "      <td>0.286429</td>\n",
       "      <td>1.366426e+08</td>\n",
       "      <td>6.900000</td>\n",
       "      <td>1067.250000</td>\n",
       "      <td>36.168729</td>\n",
       "      <td>1.000000</td>\n",
       "      <td>0.000000</td>\n",
       "      <td>0.000000</td>\n",
       "      <td>1.000000</td>\n",
       "      <td>...</td>\n",
       "      <td>0.000000</td>\n",
       "      <td>0.000000</td>\n",
       "      <td>0.000000</td>\n",
       "      <td>0.0</td>\n",
       "      <td>1.000000</td>\n",
       "      <td>0.000000</td>\n",
       "      <td>0.000000</td>\n",
       "      <td>2010.000000</td>\n",
       "      <td>10.000000</td>\n",
       "      <td>23.000000</td>\n",
       "    </tr>\n",
       "    <tr>\n",
       "      <th>max</th>\n",
       "      <td>338.000000</td>\n",
       "      <td>1.000000</td>\n",
       "      <td>1.513529e+09</td>\n",
       "      <td>8.500000</td>\n",
       "      <td>13752.000000</td>\n",
       "      <td>875.581305</td>\n",
       "      <td>1.000000</td>\n",
       "      <td>1.000000</td>\n",
       "      <td>1.000000</td>\n",
       "      <td>1.000000</td>\n",
       "      <td>...</td>\n",
       "      <td>1.000000</td>\n",
       "      <td>1.000000</td>\n",
       "      <td>1.000000</td>\n",
       "      <td>0.0</td>\n",
       "      <td>1.000000</td>\n",
       "      <td>1.000000</td>\n",
       "      <td>1.000000</td>\n",
       "      <td>2016.000000</td>\n",
       "      <td>12.000000</td>\n",
       "      <td>31.000000</td>\n",
       "    </tr>\n",
       "  </tbody>\n",
       "</table>\n",
       "<p>8 rows × 29 columns</p>\n",
       "</div>"
      ],
      "text/plain": [
       "           runtime       budget       revenue  vote_average    vote_count  \\\n",
       "count  3164.000000  3164.000000  3.164000e+03   3164.000000   3164.000000   \n",
       "mean    110.262010     0.211794  1.083526e+08      6.304362    903.080910   \n",
       "std      20.673698     0.209538  1.520875e+08      0.876186   1280.867937   \n",
       "min      41.000000     0.000000  5.000000e+00      0.000000      0.000000   \n",
       "25%      96.000000     0.057143  1.678929e+07      5.800000    170.750000   \n",
       "50%     107.000000     0.142857  5.318463e+07      6.300000    453.000000   \n",
       "75%     120.000000     0.286429  1.366426e+08      6.900000   1067.250000   \n",
       "max     338.000000     1.000000  1.513529e+09      8.500000  13752.000000   \n",
       "\n",
       "        popularity     c_Action  c_Adventure  c_Animation     c_Comedy  \\\n",
       "count  3164.000000  2507.000000  2507.000000  2507.000000  2507.000000   \n",
       "mean     27.843907     0.295174     0.209813     0.063422     0.353410   \n",
       "std      35.107713     0.456212     0.407256     0.243770     0.478124   \n",
       "min       0.019984     0.000000     0.000000     0.000000     0.000000   \n",
       "25%      10.232095     0.000000     0.000000     0.000000     0.000000   \n",
       "50%      19.943755     0.000000     0.000000     0.000000     0.000000   \n",
       "75%      36.168729     1.000000     0.000000     0.000000     1.000000   \n",
       "max     875.581305     1.000000     1.000000     1.000000     1.000000   \n",
       "\n",
       "          ...         c_Mystery    c_Romance  c_Science Fiction  c_TV Movie  \\\n",
       "count     ...       2507.000000  2507.000000        2507.000000      2507.0   \n",
       "mean      ...          0.086957     0.168728           0.136418         0.0   \n",
       "std       ...          0.281828     0.374586           0.343300         0.0   \n",
       "min       ...          0.000000     0.000000           0.000000         0.0   \n",
       "25%       ...          0.000000     0.000000           0.000000         0.0   \n",
       "50%       ...          0.000000     0.000000           0.000000         0.0   \n",
       "75%       ...          0.000000     0.000000           0.000000         0.0   \n",
       "max       ...          1.000000     1.000000           1.000000         0.0   \n",
       "\n",
       "        c_Thriller        c_War    c_Western         year        month  \\\n",
       "count  2507.000000  2507.000000  2507.000000  3164.000000  3164.000000   \n",
       "mean      0.302353     0.037894     0.014759  2001.490834     6.997788   \n",
       "std       0.459369     0.190978     0.120610    13.338118     3.376613   \n",
       "min       0.000000     0.000000     0.000000  1916.000000     1.000000   \n",
       "25%       0.000000     0.000000     0.000000  1998.000000     4.000000   \n",
       "50%       0.000000     0.000000     0.000000  2005.000000     7.000000   \n",
       "75%       1.000000     0.000000     0.000000  2010.000000    10.000000   \n",
       "max       1.000000     1.000000     1.000000  2016.000000    12.000000   \n",
       "\n",
       "               day  \n",
       "count  3164.000000  \n",
       "mean     15.495891  \n",
       "std       8.477247  \n",
       "min       1.000000  \n",
       "25%       9.000000  \n",
       "50%      15.000000  \n",
       "75%      23.000000  \n",
       "max      31.000000  \n",
       "\n",
       "[8 rows x 29 columns]"
      ]
     },
     "execution_count": 759,
     "metadata": {},
     "output_type": "execute_result"
    }
   ],
   "source": [
    "dados_novos_junto.describe()"
   ]
  },
  {
   "cell_type": "markdown",
   "metadata": {},
   "source": [
    "## Separação das  variáveis"
   ]
  },
  {
   "cell_type": "markdown",
   "metadata": {},
   "source": [
    "Obtendo as variáveis resposta e preditora:\n",
    "\n",
    "-Variável resposta (Y) , ou seja , as notas do site IMDB\n",
    "\n",
    "-Variável preditora (X) , ou seja , todas as colunas que serão usadas para prever as notas dos filmes"
   ]
  },
  {
   "cell_type": "code",
   "execution_count": 760,
   "metadata": {},
   "outputs": [],
   "source": [
    "Y = df[ \"vote_average\"]"
   ]
  },
  {
   "cell_type": "code",
   "execution_count": 761,
   "metadata": {},
   "outputs": [],
   "source": [
    "X = df[[\"runtime\",\"budget\",\"revenue\",\"vote_count\", \"popularity\",\"c_Action\", \"c_Adventure\",\"c_Animation\",\"c_Comedy\",\"c_History\",\n",
    "        \"c_Horror\",\"c_Music\",\"c_Mystery\",\"c_Romance\",\"c_Science Fiction\",\"c_TV Movie\",\"c_Thriller\",\"c_War\",\"c_Western\",\"month\",\"year\",\"day\"]]"
   ]
  },
  {
   "cell_type": "markdown",
   "metadata": {},
   "source": [
    "### Regressão"
   ]
  },
  {
   "cell_type": "code",
   "execution_count": 762,
   "metadata": {},
   "outputs": [
    {
     "data": {
      "text/html": [
       "<table class=\"simpletable\">\n",
       "<caption>OLS Regression Results</caption>\n",
       "<tr>\n",
       "  <th>Dep. Variable:</th>      <td>vote_average</td>   <th>  R-squared:         </th> <td>   0.403</td> \n",
       "</tr>\n",
       "<tr>\n",
       "  <th>Model:</th>                   <td>OLS</td>       <th>  Adj. R-squared:    </th> <td>   0.398</td> \n",
       "</tr>\n",
       "<tr>\n",
       "  <th>Method:</th>             <td>Least Squares</td>  <th>  F-statistic:       </th> <td>   79.87</td> \n",
       "</tr>\n",
       "<tr>\n",
       "  <th>Date:</th>             <td>Mon, 12 Nov 2018</td> <th>  Prob (F-statistic):</th> <td>1.90e-259</td>\n",
       "</tr>\n",
       "<tr>\n",
       "  <th>Time:</th>                 <td>23:43:57</td>     <th>  Log-Likelihood:    </th> <td> -2492.4</td> \n",
       "</tr>\n",
       "<tr>\n",
       "  <th>No. Observations:</th>      <td>  2507</td>      <th>  AIC:               </th> <td>   5029.</td> \n",
       "</tr>\n",
       "<tr>\n",
       "  <th>Df Residuals:</th>          <td>  2485</td>      <th>  BIC:               </th> <td>   5157.</td> \n",
       "</tr>\n",
       "<tr>\n",
       "  <th>Df Model:</th>              <td>    21</td>      <th>                     </th>     <td> </td>    \n",
       "</tr>\n",
       "<tr>\n",
       "  <th>Covariance Type:</th>      <td>nonrobust</td>    <th>                     </th>     <td> </td>    \n",
       "</tr>\n",
       "</table>\n",
       "<table class=\"simpletable\">\n",
       "<tr>\n",
       "          <td></td>             <th>coef</th>     <th>std err</th>      <th>t</th>      <th>P>|t|</th>  <th>[0.025</th>    <th>0.975]</th>  \n",
       "</tr>\n",
       "<tr>\n",
       "  <th>const</th>             <td>   18.6573</td> <td>    3.025</td> <td>    6.168</td> <td> 0.000</td> <td>   12.726</td> <td>   24.589</td>\n",
       "</tr>\n",
       "<tr>\n",
       "  <th>runtime</th>           <td>    0.0139</td> <td>    0.001</td> <td>   20.183</td> <td> 0.000</td> <td>    0.013</td> <td>    0.015</td>\n",
       "</tr>\n",
       "<tr>\n",
       "  <th>budget</th>            <td>   -1.1958</td> <td>    0.088</td> <td>  -13.654</td> <td> 0.000</td> <td>   -1.368</td> <td>   -1.024</td>\n",
       "</tr>\n",
       "<tr>\n",
       "  <th>revenue</th>           <td> 1.322e-10</td> <td> 1.36e-10</td> <td>    0.974</td> <td> 0.330</td> <td>-1.34e-10</td> <td> 3.98e-10</td>\n",
       "</tr>\n",
       "<tr>\n",
       "  <th>vote_count</th>        <td>    0.0003</td> <td> 1.68e-05</td> <td>   17.179</td> <td> 0.000</td> <td>    0.000</td> <td>    0.000</td>\n",
       "</tr>\n",
       "<tr>\n",
       "  <th>popularity</th>        <td>    0.0006</td> <td>    0.001</td> <td>    1.202</td> <td> 0.230</td> <td>   -0.000</td> <td>    0.002</td>\n",
       "</tr>\n",
       "<tr>\n",
       "  <th>c_Action</th>          <td>    0.0418</td> <td>    0.035</td> <td>    1.209</td> <td> 0.227</td> <td>   -0.026</td> <td>    0.110</td>\n",
       "</tr>\n",
       "<tr>\n",
       "  <th>c_Adventure</th>       <td>    0.0188</td> <td>    0.037</td> <td>    0.502</td> <td> 0.616</td> <td>   -0.055</td> <td>    0.092</td>\n",
       "</tr>\n",
       "<tr>\n",
       "  <th>c_Animation</th>       <td>    0.1081</td> <td>    0.059</td> <td>    1.842</td> <td> 0.066</td> <td>   -0.007</td> <td>    0.223</td>\n",
       "</tr>\n",
       "<tr>\n",
       "  <th>c_Comedy</th>          <td>    0.0203</td> <td>    0.031</td> <td>    0.645</td> <td> 0.519</td> <td>   -0.041</td> <td>    0.082</td>\n",
       "</tr>\n",
       "<tr>\n",
       "  <th>c_History</th>         <td>    0.0937</td> <td>    0.068</td> <td>    1.371</td> <td> 0.171</td> <td>   -0.040</td> <td>    0.228</td>\n",
       "</tr>\n",
       "<tr>\n",
       "  <th>c_Horror</th>          <td>   -0.0562</td> <td>    0.048</td> <td>   -1.180</td> <td> 0.238</td> <td>   -0.150</td> <td>    0.037</td>\n",
       "</tr>\n",
       "<tr>\n",
       "  <th>c_Music</th>           <td>   -0.1572</td> <td>    0.076</td> <td>   -2.067</td> <td> 0.039</td> <td>   -0.306</td> <td>   -0.008</td>\n",
       "</tr>\n",
       "<tr>\n",
       "  <th>c_Mystery</th>         <td>    0.0241</td> <td>    0.050</td> <td>    0.486</td> <td> 0.627</td> <td>   -0.073</td> <td>    0.121</td>\n",
       "</tr>\n",
       "<tr>\n",
       "  <th>c_Romance</th>         <td>   -0.0638</td> <td>    0.038</td> <td>   -1.688</td> <td> 0.092</td> <td>   -0.138</td> <td>    0.010</td>\n",
       "</tr>\n",
       "<tr>\n",
       "  <th>c_Science Fiction</th> <td>    0.0031</td> <td>    0.041</td> <td>    0.075</td> <td> 0.940</td> <td>   -0.077</td> <td>    0.083</td>\n",
       "</tr>\n",
       "<tr>\n",
       "  <th>c_TV Movie</th>        <td> 6.704e-17</td> <td> 3.71e-17</td> <td>    1.807</td> <td> 0.071</td> <td>-5.72e-18</td> <td>  1.4e-16</td>\n",
       "</tr>\n",
       "<tr>\n",
       "  <th>c_Thriller</th>        <td>   -0.0186</td> <td>    0.034</td> <td>   -0.542</td> <td> 0.588</td> <td>   -0.086</td> <td>    0.049</td>\n",
       "</tr>\n",
       "<tr>\n",
       "  <th>c_War</th>             <td>    0.0744</td> <td>    0.073</td> <td>    1.013</td> <td> 0.311</td> <td>   -0.070</td> <td>    0.218</td>\n",
       "</tr>\n",
       "<tr>\n",
       "  <th>c_Western</th>         <td>   -0.1104</td> <td>    0.110</td> <td>   -1.003</td> <td> 0.316</td> <td>   -0.326</td> <td>    0.106</td>\n",
       "</tr>\n",
       "<tr>\n",
       "  <th>month</th>             <td>    0.0225</td> <td>    0.004</td> <td>    5.724</td> <td> 0.000</td> <td>    0.015</td> <td>    0.030</td>\n",
       "</tr>\n",
       "<tr>\n",
       "  <th>year</th>              <td>   -0.0070</td> <td>    0.002</td> <td>   -4.694</td> <td> 0.000</td> <td>   -0.010</td> <td>   -0.004</td>\n",
       "</tr>\n",
       "<tr>\n",
       "  <th>day</th>               <td>   -0.0020</td> <td>    0.002</td> <td>   -1.246</td> <td> 0.213</td> <td>   -0.005</td> <td>    0.001</td>\n",
       "</tr>\n",
       "</table>\n",
       "<table class=\"simpletable\">\n",
       "<tr>\n",
       "  <th>Omnibus:</th>       <td>235.306</td> <th>  Durbin-Watson:     </th> <td>   2.001</td>\n",
       "</tr>\n",
       "<tr>\n",
       "  <th>Prob(Omnibus):</th> <td> 0.000</td>  <th>  Jarque-Bera (JB):  </th> <td> 410.043</td>\n",
       "</tr>\n",
       "<tr>\n",
       "  <th>Skew:</th>          <td>-0.654</td>  <th>  Prob(JB):          </th> <td>9.13e-90</td>\n",
       "</tr>\n",
       "<tr>\n",
       "  <th>Kurtosis:</th>      <td> 4.488</td>  <th>  Cond. No.          </th> <td>2.14e+25</td>\n",
       "</tr>\n",
       "</table>"
      ],
      "text/plain": [
       "<class 'statsmodels.iolib.summary.Summary'>\n",
       "\"\"\"\n",
       "                            OLS Regression Results                            \n",
       "==============================================================================\n",
       "Dep. Variable:           vote_average   R-squared:                       0.403\n",
       "Model:                            OLS   Adj. R-squared:                  0.398\n",
       "Method:                 Least Squares   F-statistic:                     79.87\n",
       "Date:                Mon, 12 Nov 2018   Prob (F-statistic):          1.90e-259\n",
       "Time:                        23:43:57   Log-Likelihood:                -2492.4\n",
       "No. Observations:                2507   AIC:                             5029.\n",
       "Df Residuals:                    2485   BIC:                             5157.\n",
       "Df Model:                          21                                         \n",
       "Covariance Type:            nonrobust                                         \n",
       "=====================================================================================\n",
       "                        coef    std err          t      P>|t|      [0.025      0.975]\n",
       "-------------------------------------------------------------------------------------\n",
       "const                18.6573      3.025      6.168      0.000      12.726      24.589\n",
       "runtime               0.0139      0.001     20.183      0.000       0.013       0.015\n",
       "budget               -1.1958      0.088    -13.654      0.000      -1.368      -1.024\n",
       "revenue            1.322e-10   1.36e-10      0.974      0.330   -1.34e-10    3.98e-10\n",
       "vote_count            0.0003   1.68e-05     17.179      0.000       0.000       0.000\n",
       "popularity            0.0006      0.001      1.202      0.230      -0.000       0.002\n",
       "c_Action              0.0418      0.035      1.209      0.227      -0.026       0.110\n",
       "c_Adventure           0.0188      0.037      0.502      0.616      -0.055       0.092\n",
       "c_Animation           0.1081      0.059      1.842      0.066      -0.007       0.223\n",
       "c_Comedy              0.0203      0.031      0.645      0.519      -0.041       0.082\n",
       "c_History             0.0937      0.068      1.371      0.171      -0.040       0.228\n",
       "c_Horror             -0.0562      0.048     -1.180      0.238      -0.150       0.037\n",
       "c_Music              -0.1572      0.076     -2.067      0.039      -0.306      -0.008\n",
       "c_Mystery             0.0241      0.050      0.486      0.627      -0.073       0.121\n",
       "c_Romance            -0.0638      0.038     -1.688      0.092      -0.138       0.010\n",
       "c_Science Fiction     0.0031      0.041      0.075      0.940      -0.077       0.083\n",
       "c_TV Movie         6.704e-17   3.71e-17      1.807      0.071   -5.72e-18     1.4e-16\n",
       "c_Thriller           -0.0186      0.034     -0.542      0.588      -0.086       0.049\n",
       "c_War                 0.0744      0.073      1.013      0.311      -0.070       0.218\n",
       "c_Western            -0.1104      0.110     -1.003      0.316      -0.326       0.106\n",
       "month                 0.0225      0.004      5.724      0.000       0.015       0.030\n",
       "year                 -0.0070      0.002     -4.694      0.000      -0.010      -0.004\n",
       "day                  -0.0020      0.002     -1.246      0.213      -0.005       0.001\n",
       "==============================================================================\n",
       "Omnibus:                      235.306   Durbin-Watson:                   2.001\n",
       "Prob(Omnibus):                  0.000   Jarque-Bera (JB):              410.043\n",
       "Skew:                          -0.654   Prob(JB):                     9.13e-90\n",
       "Kurtosis:                       4.488   Cond. No.                     2.14e+25\n",
       "==============================================================================\n",
       "\n",
       "Warnings:\n",
       "[1] Standard Errors assume that the covariance matrix of the errors is correctly specified.\n",
       "[2] The smallest eigenvalue is 2.37e-31. This might indicate that there are\n",
       "strong multicollinearity problems or that the design matrix is singular.\n",
       "\"\"\""
      ]
     },
     "execution_count": 762,
     "metadata": {},
     "output_type": "execute_result"
    }
   ],
   "source": [
    "results = regress(X,Y)\n",
    "results.summary()"
   ]
  },
  {
   "cell_type": "markdown",
   "metadata": {},
   "source": [
    "## Criação do novo dataframe com variáveis releventes"
   ]
  },
  {
   "cell_type": "markdown",
   "metadata": {},
   "source": [
    "#### Adotamos um ALFA de 5%, então só vamos usar na análise as variáveis  que possuem um P>T maior que o ALFA "
   ]
  },
  {
   "cell_type": "code",
   "execution_count": 763,
   "metadata": {},
   "outputs": [],
   "source": [
    "X = df[[\"runtime\", \"budget\", \"revenue\", \"vote_count\", \"popularity\", \"month\", \"year\"]]"
   ]
  },
  {
   "cell_type": "markdown",
   "metadata": {},
   "source": [
    "#### Separando o dataframe em teste e treinamento"
   ]
  },
  {
   "cell_type": "code",
   "execution_count": 764,
   "metadata": {},
   "outputs": [],
   "source": [
    "from sklearn.model_selection import train_test_split\n",
    "X_train, X_test, y_train, y_test = train_test_split(X, Y, test_size=0.33, random_state=RANDOM_SEED)"
   ]
  },
  {
   "cell_type": "markdown",
   "metadata": {},
   "source": [
    " #### Aplicando o modelo de regressão linear"
   ]
  },
  {
   "cell_type": "code",
   "execution_count": 765,
   "metadata": {},
   "outputs": [
    {
     "name": "stdout",
     "output_type": "stream",
     "text": [
      "a margem de acerto do modelo de regressão linear é de 43.0%\n"
     ]
    }
   ],
   "source": [
    "from sklearn.linear_model import LinearRegression\n",
    "from sklearn.metrics import mean_squared_error\n",
    "\n",
    "model = LinearRegression()       #cria\n",
    "model.fit(X_train, y_train)        #treina \n",
    "y_pred = model.predict(X_test)      #testa \n",
    "\n",
    "resultrl = 1 - mean_squared_error(y_test, y_pred) / np.var(y_test)\n",
    "print('a margem de acerto do modelo de regressão linear é de {0}%'.format(resultrl.round(2)*100))"
   ]
  },
  {
   "cell_type": "markdown",
   "metadata": {},
   "source": [
    "#### Aplicando o modelo RandomForest"
   ]
  },
  {
   "cell_type": "code",
   "execution_count": 766,
   "metadata": {},
   "outputs": [
    {
     "name": "stdout",
     "output_type": "stream",
     "text": [
      "a margem de acerto do modelo RandomForest é de 49.0%\n"
     ]
    }
   ],
   "source": [
    "from sklearn.ensemble import RandomForestRegressor\n",
    "from sklearn.metrics import mean_squared_error\n",
    "\n",
    "model = RandomForestRegressor()       #cria\n",
    "model.fit(X_train, y_train)        #treina \n",
    "y_pred = model.predict(X_test)      #testa \n",
    "\n",
    "resultrf = 1 - mean_squared_error(y_test, y_pred) / np.var(y_test)\n",
    "print('a margem de acerto do modelo RandomForest é de {0}%'.format(resultrf.round(2)*100))"
   ]
  },
  {
   "cell_type": "code",
   "execution_count": null,
   "metadata": {},
   "outputs": [],
   "source": []
  },
  {
   "cell_type": "code",
   "execution_count": null,
   "metadata": {},
   "outputs": [],
   "source": []
  }
 ],
 "metadata": {
  "kernelspec": {
   "display_name": "Python 3",
   "language": "python",
   "name": "python3"
  },
  "language_info": {
   "codemirror_mode": {
    "name": "ipython",
    "version": 3
   },
   "file_extension": ".py",
   "mimetype": "text/x-python",
   "name": "python",
   "nbconvert_exporter": "python",
   "pygments_lexer": "ipython3",
   "version": "3.6.4"
  }
 },
 "nbformat": 4,
 "nbformat_minor": 2
}
