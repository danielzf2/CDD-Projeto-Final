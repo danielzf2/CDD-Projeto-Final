{
 "cells": [
  {
   "cell_type": "markdown",
   "metadata": {},
   "source": [
    "#                     Projeto Final CDD- Prever a nota de um filme no IDB"
   ]
  },
  {
   "cell_type": "code",
   "execution_count": 237,
   "metadata": {},
   "outputs": [],
   "source": [
    "%matplotlib inline\n",
    "import matplotlib.pyplot as plt\n",
    "import matplotlib\n",
    "import pandas as pd\n",
    "import seaborn as sns\n",
    "import numpy as np\n",
    "from scipy.stats import norm, probplot\n",
    "import statsmodels.api as sm\n",
    "from mpl_toolkits.mplot3d import Axes3D\n",
    "import json\n",
    "\n",
    "RANDOM_SEED = 42\n",
    "\n",
    "np.random.seed(RANDOM_SEED)"
   ]
  },
  {
   "cell_type": "code",
   "execution_count": 238,
   "metadata": {},
   "outputs": [],
   "source": [
    "### Função utilitária para fazer a regressão com constante adicionada\n",
    "def regress(X,Y):\n",
    "    X_cp = sm.add_constant(X)\n",
    "    model = sm.OLS(Y,X_cp)\n",
    "    results = model.fit()\n",
    "    return results"
   ]
  },
  {
   "cell_type": "code",
   "execution_count": 239,
   "metadata": {},
   "outputs": [],
   "source": [
    "dados_filmes= pd.read_csv(\"tmdb_5000_movies.csv\")"
   ]
  },
  {
   "cell_type": "code",
   "execution_count": 240,
   "metadata": {},
   "outputs": [],
   "source": [
    "dados_filmes.drop(dados_filmes[dados_filmes[\"budget\"]==0].index,inplace=True)"
   ]
  },
  {
   "cell_type": "markdown",
   "metadata": {},
   "source": [
    "# Começaremos analisando os dados do Dataset\n",
    "\n",
    "## As variáveis numéricas que analisaremos, para ver se há uma relação com a nota do filme, será as numéricas. Estas serão:\n",
    "\n",
    "### title, runtime budget, revenue, popularity, vote_average, vote_count"
   ]
  },
  {
   "cell_type": "markdown",
   "metadata": {},
   "source": [
    "## Construindo o Dataframe"
   ]
  },
  {
   "cell_type": "code",
   "execution_count": 241,
   "metadata": {},
   "outputs": [],
   "source": [
    "dados_novos = dados_filmes[[\"title\",\"runtime\",\"budget\",\"revenue\", \"vote_average\", \"vote_count\", \"popularity\",\"genres\"]].copy()"
   ]
  },
  {
   "cell_type": "markdown",
   "metadata": {},
   "source": [
    "#### Criação de colunas com o nome dos generos, sendo 1 para quando o filme é daquela categoria e 0 para quando não é , isso foi feito para tirar a coluna genre"
   ]
  },
  {
   "cell_type": "code",
   "execution_count": 242,
   "metadata": {},
   "outputs": [
    {
     "data": {
      "text/plain": [
       "{'Action',\n",
       " 'Adventure',\n",
       " 'Animation',\n",
       " 'Comedy',\n",
       " 'Crime',\n",
       " 'Documentary',\n",
       " 'Drama',\n",
       " 'Family',\n",
       " 'Fantasy',\n",
       " 'Foreign',\n",
       " 'History',\n",
       " 'Horror',\n",
       " 'Music',\n",
       " 'Mystery',\n",
       " 'Romance',\n",
       " 'Science Fiction',\n",
       " 'TV Movie',\n",
       " 'Thriller',\n",
       " 'War',\n",
       " 'Western'}"
      ]
     },
     "execution_count": 242,
     "metadata": {},
     "output_type": "execute_result"
    }
   ],
   "source": [
    "genres = set()\n",
    "for x in dados_novos['genres']:\n",
    "    for g in json.loads(x):\n",
    "        genres.add(g[\"name\"])\n",
    "\n",
    "genres"
   ]
  },
  {
   "cell_type": "markdown",
   "metadata": {},
   "source": [
    "#### Criacão do novo dataframe incluindo as novas colunas de gênero"
   ]
  },
  {
   "cell_type": "code",
   "execution_count": 243,
   "metadata": {},
   "outputs": [],
   "source": [
    "def extrai_generos(item):\n",
    "    generos = {'c_' + x: 0 for x in ['Action', 'Adventure', 'Animation', 'Comedy', 'Crime', \n",
    "                              'Documentary', 'Drama', 'Family', 'Fantasy', 'Foreign', \n",
    "                              'History', 'Horror', 'Music', 'Mystery', 'Romance', \n",
    "                              'Science Fiction', 'TV Movie', 'Thriller', 'War', 'Western']}\n",
    "    for g in json.loads(item):\n",
    "        generos['c_' + g['name']] += 1\n",
    "    return generos\n",
    "\n",
    "dados_novos_teste = pd.DataFrame(list(dados_novos['genres'].apply(extrai_generos).values))\n",
    "\n",
    "dados_novos_junto = dados_novos.join(dados_novos_teste)\n",
    "\n",
    "dados_novos_junto.set_index(\"title\",inplace=True)"
   ]
  },
  {
   "cell_type": "code",
   "execution_count": 244,
   "metadata": {},
   "outputs": [],
   "source": [
    "dados_novos_junto.drop(columns= \"genres\", inplace=True)\n",
    "\n"
   ]
  },
  {
   "cell_type": "markdown",
   "metadata": {},
   "source": [
    "## Variáveis para a análise"
   ]
  },
  {
   "cell_type": "markdown",
   "metadata": {},
   "source": [
    "**Dicionário de dados:**\n",
    "\n",
    "\n",
    "Variável | Descrição\n",
    ":---:|---:\n",
    "title | Título do filme\n",
    "runtime | Tempo de filme\n",
    "budget | Orçamento\n",
    "revenue | Receita\n",
    "vote_average | Média dos votos\n",
    "vote_count | Número de votos das pessoas\n",
    "popularity | Popularidade\n",
    "genres | Os diferentes gêneros de filme"
   ]
  },
  {
   "cell_type": "markdown",
   "metadata": {},
   "source": [
    "## Com a ajuda do comando Describe, poderemos analisar fatores importantes do Dataframe\n",
    "\n",
    "\n",
    " "
   ]
  },
  {
   "cell_type": "code",
   "execution_count": 245,
   "metadata": {},
   "outputs": [
    {
     "data": {
      "text/html": [
       "<div>\n",
       "<style scoped>\n",
       "    .dataframe tbody tr th:only-of-type {\n",
       "        vertical-align: middle;\n",
       "    }\n",
       "\n",
       "    .dataframe tbody tr th {\n",
       "        vertical-align: top;\n",
       "    }\n",
       "\n",
       "    .dataframe thead th {\n",
       "        text-align: right;\n",
       "    }\n",
       "</style>\n",
       "<table border=\"1\" class=\"dataframe\">\n",
       "  <thead>\n",
       "    <tr style=\"text-align: right;\">\n",
       "      <th></th>\n",
       "      <th>runtime</th>\n",
       "      <th>budget</th>\n",
       "      <th>revenue</th>\n",
       "      <th>vote_average</th>\n",
       "      <th>vote_count</th>\n",
       "      <th>popularity</th>\n",
       "      <th>c_Action</th>\n",
       "      <th>c_Adventure</th>\n",
       "      <th>c_Animation</th>\n",
       "      <th>c_Comedy</th>\n",
       "      <th>...</th>\n",
       "      <th>c_History</th>\n",
       "      <th>c_Horror</th>\n",
       "      <th>c_Music</th>\n",
       "      <th>c_Mystery</th>\n",
       "      <th>c_Romance</th>\n",
       "      <th>c_Science Fiction</th>\n",
       "      <th>c_TV Movie</th>\n",
       "      <th>c_Thriller</th>\n",
       "      <th>c_War</th>\n",
       "      <th>c_Western</th>\n",
       "    </tr>\n",
       "  </thead>\n",
       "  <tbody>\n",
       "    <tr>\n",
       "      <th>count</th>\n",
       "      <td>3764.000000</td>\n",
       "      <td>3.766000e+03</td>\n",
       "      <td>3.766000e+03</td>\n",
       "      <td>3766.000000</td>\n",
       "      <td>3766.000000</td>\n",
       "      <td>3766.000000</td>\n",
       "      <td>3221.000000</td>\n",
       "      <td>3221.000000</td>\n",
       "      <td>3221.000000</td>\n",
       "      <td>3221.000000</td>\n",
       "      <td>...</td>\n",
       "      <td>3221.000000</td>\n",
       "      <td>3221.000000</td>\n",
       "      <td>3221.000000</td>\n",
       "      <td>3221.000000</td>\n",
       "      <td>3221.000000</td>\n",
       "      <td>3221.000000</td>\n",
       "      <td>3221.000000</td>\n",
       "      <td>3221.000000</td>\n",
       "      <td>3221.000000</td>\n",
       "      <td>3221.000000</td>\n",
       "    </tr>\n",
       "    <tr>\n",
       "      <th>mean</th>\n",
       "      <td>109.324389</td>\n",
       "      <td>3.704284e+07</td>\n",
       "      <td>1.039547e+08</td>\n",
       "      <td>6.226474</td>\n",
       "      <td>856.496814</td>\n",
       "      <td>25.984641</td>\n",
       "      <td>0.282521</td>\n",
       "      <td>0.208010</td>\n",
       "      <td>0.060540</td>\n",
       "      <td>0.350512</td>\n",
       "      <td>...</td>\n",
       "      <td>0.044707</td>\n",
       "      <td>0.105247</td>\n",
       "      <td>0.034772</td>\n",
       "      <td>0.074201</td>\n",
       "      <td>0.174170</td>\n",
       "      <td>0.127600</td>\n",
       "      <td>0.000931</td>\n",
       "      <td>0.289662</td>\n",
       "      <td>0.035082</td>\n",
       "      <td>0.017075</td>\n",
       "    </tr>\n",
       "    <tr>\n",
       "      <th>std</th>\n",
       "      <td>20.753408</td>\n",
       "      <td>4.264651e+07</td>\n",
       "      <td>1.776399e+08</td>\n",
       "      <td>0.966228</td>\n",
       "      <td>1344.785690</td>\n",
       "      <td>34.438253</td>\n",
       "      <td>0.450295</td>\n",
       "      <td>0.405947</td>\n",
       "      <td>0.238522</td>\n",
       "      <td>0.477204</td>\n",
       "      <td>...</td>\n",
       "      <td>0.206691</td>\n",
       "      <td>0.306919</td>\n",
       "      <td>0.183230</td>\n",
       "      <td>0.262138</td>\n",
       "      <td>0.379314</td>\n",
       "      <td>0.333696</td>\n",
       "      <td>0.030509</td>\n",
       "      <td>0.453676</td>\n",
       "      <td>0.184016</td>\n",
       "      <td>0.129573</td>\n",
       "    </tr>\n",
       "    <tr>\n",
       "      <th>min</th>\n",
       "      <td>0.000000</td>\n",
       "      <td>1.000000e+00</td>\n",
       "      <td>0.000000e+00</td>\n",
       "      <td>0.000000</td>\n",
       "      <td>0.000000</td>\n",
       "      <td>0.001586</td>\n",
       "      <td>0.000000</td>\n",
       "      <td>0.000000</td>\n",
       "      <td>0.000000</td>\n",
       "      <td>0.000000</td>\n",
       "      <td>...</td>\n",
       "      <td>0.000000</td>\n",
       "      <td>0.000000</td>\n",
       "      <td>0.000000</td>\n",
       "      <td>0.000000</td>\n",
       "      <td>0.000000</td>\n",
       "      <td>0.000000</td>\n",
       "      <td>0.000000</td>\n",
       "      <td>0.000000</td>\n",
       "      <td>0.000000</td>\n",
       "      <td>0.000000</td>\n",
       "    </tr>\n",
       "    <tr>\n",
       "      <th>25%</th>\n",
       "      <td>95.000000</td>\n",
       "      <td>8.000000e+06</td>\n",
       "      <td>6.009736e+06</td>\n",
       "      <td>5.700000</td>\n",
       "      <td>114.000000</td>\n",
       "      <td>7.974990</td>\n",
       "      <td>0.000000</td>\n",
       "      <td>0.000000</td>\n",
       "      <td>0.000000</td>\n",
       "      <td>0.000000</td>\n",
       "      <td>...</td>\n",
       "      <td>0.000000</td>\n",
       "      <td>0.000000</td>\n",
       "      <td>0.000000</td>\n",
       "      <td>0.000000</td>\n",
       "      <td>0.000000</td>\n",
       "      <td>0.000000</td>\n",
       "      <td>0.000000</td>\n",
       "      <td>0.000000</td>\n",
       "      <td>0.000000</td>\n",
       "      <td>0.000000</td>\n",
       "    </tr>\n",
       "    <tr>\n",
       "      <th>50%</th>\n",
       "      <td>105.500000</td>\n",
       "      <td>2.300000e+07</td>\n",
       "      <td>3.883137e+07</td>\n",
       "      <td>6.300000</td>\n",
       "      <td>365.500000</td>\n",
       "      <td>17.604955</td>\n",
       "      <td>0.000000</td>\n",
       "      <td>0.000000</td>\n",
       "      <td>0.000000</td>\n",
       "      <td>0.000000</td>\n",
       "      <td>...</td>\n",
       "      <td>0.000000</td>\n",
       "      <td>0.000000</td>\n",
       "      <td>0.000000</td>\n",
       "      <td>0.000000</td>\n",
       "      <td>0.000000</td>\n",
       "      <td>0.000000</td>\n",
       "      <td>0.000000</td>\n",
       "      <td>0.000000</td>\n",
       "      <td>0.000000</td>\n",
       "      <td>0.000000</td>\n",
       "    </tr>\n",
       "    <tr>\n",
       "      <th>75%</th>\n",
       "      <td>120.000000</td>\n",
       "      <td>5.000000e+07</td>\n",
       "      <td>1.220873e+08</td>\n",
       "      <td>6.900000</td>\n",
       "      <td>969.250000</td>\n",
       "      <td>33.925801</td>\n",
       "      <td>1.000000</td>\n",
       "      <td>0.000000</td>\n",
       "      <td>0.000000</td>\n",
       "      <td>1.000000</td>\n",
       "      <td>...</td>\n",
       "      <td>0.000000</td>\n",
       "      <td>0.000000</td>\n",
       "      <td>0.000000</td>\n",
       "      <td>0.000000</td>\n",
       "      <td>0.000000</td>\n",
       "      <td>0.000000</td>\n",
       "      <td>0.000000</td>\n",
       "      <td>1.000000</td>\n",
       "      <td>0.000000</td>\n",
       "      <td>0.000000</td>\n",
       "    </tr>\n",
       "    <tr>\n",
       "      <th>max</th>\n",
       "      <td>338.000000</td>\n",
       "      <td>3.800000e+08</td>\n",
       "      <td>2.787965e+09</td>\n",
       "      <td>10.000000</td>\n",
       "      <td>13752.000000</td>\n",
       "      <td>875.581305</td>\n",
       "      <td>1.000000</td>\n",
       "      <td>1.000000</td>\n",
       "      <td>1.000000</td>\n",
       "      <td>1.000000</td>\n",
       "      <td>...</td>\n",
       "      <td>1.000000</td>\n",
       "      <td>1.000000</td>\n",
       "      <td>1.000000</td>\n",
       "      <td>1.000000</td>\n",
       "      <td>1.000000</td>\n",
       "      <td>1.000000</td>\n",
       "      <td>1.000000</td>\n",
       "      <td>1.000000</td>\n",
       "      <td>1.000000</td>\n",
       "      <td>1.000000</td>\n",
       "    </tr>\n",
       "  </tbody>\n",
       "</table>\n",
       "<p>8 rows × 26 columns</p>\n",
       "</div>"
      ],
      "text/plain": [
       "           runtime        budget       revenue  vote_average    vote_count  \\\n",
       "count  3764.000000  3.766000e+03  3.766000e+03   3766.000000   3766.000000   \n",
       "mean    109.324389  3.704284e+07  1.039547e+08      6.226474    856.496814   \n",
       "std      20.753408  4.264651e+07  1.776399e+08      0.966228   1344.785690   \n",
       "min       0.000000  1.000000e+00  0.000000e+00      0.000000      0.000000   \n",
       "25%      95.000000  8.000000e+06  6.009736e+06      5.700000    114.000000   \n",
       "50%     105.500000  2.300000e+07  3.883137e+07      6.300000    365.500000   \n",
       "75%     120.000000  5.000000e+07  1.220873e+08      6.900000    969.250000   \n",
       "max     338.000000  3.800000e+08  2.787965e+09     10.000000  13752.000000   \n",
       "\n",
       "        popularity     c_Action  c_Adventure  c_Animation     c_Comedy  \\\n",
       "count  3766.000000  3221.000000  3221.000000  3221.000000  3221.000000   \n",
       "mean     25.984641     0.282521     0.208010     0.060540     0.350512   \n",
       "std      34.438253     0.450295     0.405947     0.238522     0.477204   \n",
       "min       0.001586     0.000000     0.000000     0.000000     0.000000   \n",
       "25%       7.974990     0.000000     0.000000     0.000000     0.000000   \n",
       "50%      17.604955     0.000000     0.000000     0.000000     0.000000   \n",
       "75%      33.925801     1.000000     0.000000     0.000000     1.000000   \n",
       "max     875.581305     1.000000     1.000000     1.000000     1.000000   \n",
       "\n",
       "          ...         c_History     c_Horror      c_Music    c_Mystery  \\\n",
       "count     ...       3221.000000  3221.000000  3221.000000  3221.000000   \n",
       "mean      ...          0.044707     0.105247     0.034772     0.074201   \n",
       "std       ...          0.206691     0.306919     0.183230     0.262138   \n",
       "min       ...          0.000000     0.000000     0.000000     0.000000   \n",
       "25%       ...          0.000000     0.000000     0.000000     0.000000   \n",
       "50%       ...          0.000000     0.000000     0.000000     0.000000   \n",
       "75%       ...          0.000000     0.000000     0.000000     0.000000   \n",
       "max       ...          1.000000     1.000000     1.000000     1.000000   \n",
       "\n",
       "         c_Romance  c_Science Fiction   c_TV Movie   c_Thriller        c_War  \\\n",
       "count  3221.000000        3221.000000  3221.000000  3221.000000  3221.000000   \n",
       "mean      0.174170           0.127600     0.000931     0.289662     0.035082   \n",
       "std       0.379314           0.333696     0.030509     0.453676     0.184016   \n",
       "min       0.000000           0.000000     0.000000     0.000000     0.000000   \n",
       "25%       0.000000           0.000000     0.000000     0.000000     0.000000   \n",
       "50%       0.000000           0.000000     0.000000     0.000000     0.000000   \n",
       "75%       0.000000           0.000000     0.000000     1.000000     0.000000   \n",
       "max       1.000000           1.000000     1.000000     1.000000     1.000000   \n",
       "\n",
       "         c_Western  \n",
       "count  3221.000000  \n",
       "mean      0.017075  \n",
       "std       0.129573  \n",
       "min       0.000000  \n",
       "25%       0.000000  \n",
       "50%       0.000000  \n",
       "75%       0.000000  \n",
       "max       1.000000  \n",
       "\n",
       "[8 rows x 26 columns]"
      ]
     },
     "execution_count": 245,
     "metadata": {},
     "output_type": "execute_result"
    }
   ],
   "source": [
    "dados_novos_junto.describe()"
   ]
  },
  {
   "cell_type": "markdown",
   "metadata": {},
   "source": [
    "### Verificando valores nulos das variáveis em certa coluna"
   ]
  },
  {
   "cell_type": "code",
   "execution_count": 246,
   "metadata": {},
   "outputs": [
    {
     "data": {
      "text/plain": [
       "runtime              0\n",
       "budget               0\n",
       "revenue              0\n",
       "vote_average         0\n",
       "vote_count           0\n",
       "popularity           0\n",
       "c_Action             0\n",
       "c_Adventure          0\n",
       "c_Animation          0\n",
       "c_Comedy             0\n",
       "c_Crime              0\n",
       "c_Documentary        0\n",
       "c_Drama              0\n",
       "c_Family             0\n",
       "c_Fantasy            0\n",
       "c_Foreign            0\n",
       "c_History            0\n",
       "c_Horror             0\n",
       "c_Music              0\n",
       "c_Mystery            0\n",
       "c_Romance            0\n",
       "c_Science Fiction    0\n",
       "c_TV Movie           0\n",
       "c_Thriller           0\n",
       "c_War                0\n",
       "c_Western            0\n",
       "dtype: int64"
      ]
     },
     "execution_count": 246,
     "metadata": {},
     "output_type": "execute_result"
    }
   ],
   "source": [
    "np.sum(df.isnull())"
   ]
  },
  {
   "cell_type": "markdown",
   "metadata": {},
   "source": [
    "### Tirando os dados Nan"
   ]
  },
  {
   "cell_type": "code",
   "execution_count": 247,
   "metadata": {},
   "outputs": [],
   "source": [
    "df = dados_novos_junto\n",
    "\n",
    "df = df.dropna()"
   ]
  },
  {
   "cell_type": "markdown",
   "metadata": {},
   "source": [
    "## Separação das  variáveis"
   ]
  },
  {
   "cell_type": "code",
   "execution_count": 248,
   "metadata": {},
   "outputs": [],
   "source": [
    "Y = df[ \"vote_average\"]"
   ]
  },
  {
   "cell_type": "code",
   "execution_count": 249,
   "metadata": {},
   "outputs": [],
   "source": [
    "X = df[[\"runtime\",\"budget\",\"revenue\",\"vote_count\", \"popularity\",\"c_Action\", \"c_Adventure\",\"c_Animation\",\"c_Comedy\",\"c_History\",\n",
    "        \"c_Horror\",\"c_Music\",\"c_Mystery\",\"c_Romance\",\"c_Science Fiction\",\"c_TV Movie\",\"c_Thriller\",\"c_War\",\"c_Western\"]]"
   ]
  },
  {
   "cell_type": "markdown",
   "metadata": {},
   "source": [
    "## Uso da função Regress"
   ]
  },
  {
   "cell_type": "code",
   "execution_count": 250,
   "metadata": {},
   "outputs": [
    {
     "data": {
      "text/html": [
       "<table class=\"simpletable\">\n",
       "<caption>OLS Regression Results</caption>\n",
       "<tr>\n",
       "  <th>Dep. Variable:</th>      <td>vote_average</td>   <th>  R-squared:         </th> <td>   0.363</td> \n",
       "</tr>\n",
       "<tr>\n",
       "  <th>Model:</th>                   <td>OLS</td>       <th>  Adj. R-squared:    </th> <td>   0.359</td> \n",
       "</tr>\n",
       "<tr>\n",
       "  <th>Method:</th>             <td>Least Squares</td>  <th>  F-statistic:       </th> <td>   95.94</td> \n",
       "</tr>\n",
       "<tr>\n",
       "  <th>Date:</th>             <td>Thu, 08 Nov 2018</td> <th>  Prob (F-statistic):</th> <td>1.42e-295</td>\n",
       "</tr>\n",
       "<tr>\n",
       "  <th>Time:</th>                 <td>15:04:26</td>     <th>  Log-Likelihood:    </th> <td> -3389.3</td> \n",
       "</tr>\n",
       "<tr>\n",
       "  <th>No. Observations:</th>      <td>  3220</td>      <th>  AIC:               </th> <td>   6819.</td> \n",
       "</tr>\n",
       "<tr>\n",
       "  <th>Df Residuals:</th>          <td>  3200</td>      <th>  BIC:               </th> <td>   6940.</td> \n",
       "</tr>\n",
       "<tr>\n",
       "  <th>Df Model:</th>              <td>    19</td>      <th>                     </th>     <td> </td>    \n",
       "</tr>\n",
       "<tr>\n",
       "  <th>Covariance Type:</th>      <td>nonrobust</td>    <th>                     </th>     <td> </td>    \n",
       "</tr>\n",
       "</table>\n",
       "<table class=\"simpletable\">\n",
       "<tr>\n",
       "          <td></td>             <th>coef</th>     <th>std err</th>      <th>t</th>      <th>P>|t|</th>  <th>[0.025</th>    <th>0.975]</th>  \n",
       "</tr>\n",
       "<tr>\n",
       "  <th>const</th>             <td>    4.4779</td> <td>    0.073</td> <td>   61.722</td> <td> 0.000</td> <td>    4.336</td> <td>    4.620</td>\n",
       "</tr>\n",
       "<tr>\n",
       "  <th>runtime</th>           <td>    0.0160</td> <td>    0.001</td> <td>   25.557</td> <td> 0.000</td> <td>    0.015</td> <td>    0.017</td>\n",
       "</tr>\n",
       "<tr>\n",
       "  <th>budget</th>            <td>-6.789e-09</td> <td> 4.26e-10</td> <td>  -15.941</td> <td> 0.000</td> <td>-7.62e-09</td> <td>-5.95e-09</td>\n",
       "</tr>\n",
       "<tr>\n",
       "  <th>revenue</th>           <td> 8.025e-11</td> <td>  1.2e-10</td> <td>    0.670</td> <td> 0.503</td> <td>-1.55e-10</td> <td> 3.15e-10</td>\n",
       "</tr>\n",
       "<tr>\n",
       "  <th>vote_count</th>        <td>    0.0003</td> <td> 1.63e-05</td> <td>   16.980</td> <td> 0.000</td> <td>    0.000</td> <td>    0.000</td>\n",
       "</tr>\n",
       "<tr>\n",
       "  <th>popularity</th>        <td>    0.0011</td> <td>    0.001</td> <td>    2.082</td> <td> 0.037</td> <td> 6.29e-05</td> <td>    0.002</td>\n",
       "</tr>\n",
       "<tr>\n",
       "  <th>c_Action</th>          <td>   -0.0096</td> <td>    0.033</td> <td>   -0.291</td> <td> 0.771</td> <td>   -0.075</td> <td>    0.055</td>\n",
       "</tr>\n",
       "<tr>\n",
       "  <th>c_Adventure</th>       <td>   -0.0911</td> <td>    0.035</td> <td>   -2.568</td> <td> 0.010</td> <td>   -0.161</td> <td>   -0.022</td>\n",
       "</tr>\n",
       "<tr>\n",
       "  <th>c_Animation</th>       <td>    0.2458</td> <td>    0.056</td> <td>    4.427</td> <td> 0.000</td> <td>    0.137</td> <td>    0.355</td>\n",
       "</tr>\n",
       "<tr>\n",
       "  <th>c_Comedy</th>          <td>   -0.0115</td> <td>    0.029</td> <td>   -0.393</td> <td> 0.694</td> <td>   -0.069</td> <td>    0.046</td>\n",
       "</tr>\n",
       "<tr>\n",
       "  <th>c_History</th>         <td>   -0.1066</td> <td>    0.065</td> <td>   -1.644</td> <td> 0.100</td> <td>   -0.234</td> <td>    0.021</td>\n",
       "</tr>\n",
       "<tr>\n",
       "  <th>c_Horror</th>          <td>    0.0497</td> <td>    0.043</td> <td>    1.165</td> <td> 0.244</td> <td>   -0.034</td> <td>    0.133</td>\n",
       "</tr>\n",
       "<tr>\n",
       "  <th>c_Music</th>           <td>   -0.0689</td> <td>    0.068</td> <td>   -1.011</td> <td> 0.312</td> <td>   -0.202</td> <td>    0.065</td>\n",
       "</tr>\n",
       "<tr>\n",
       "  <th>c_Mystery</th>         <td>   -0.0551</td> <td>    0.049</td> <td>   -1.114</td> <td> 0.265</td> <td>   -0.152</td> <td>    0.042</td>\n",
       "</tr>\n",
       "<tr>\n",
       "  <th>c_Romance</th>         <td>   -0.0167</td> <td>    0.035</td> <td>   -0.480</td> <td> 0.631</td> <td>   -0.085</td> <td>    0.051</td>\n",
       "</tr>\n",
       "<tr>\n",
       "  <th>c_Science Fiction</th> <td>   -0.0022</td> <td>    0.039</td> <td>   -0.057</td> <td> 0.955</td> <td>   -0.079</td> <td>    0.075</td>\n",
       "</tr>\n",
       "<tr>\n",
       "  <th>c_TV Movie</th>        <td>    0.3102</td> <td>    0.403</td> <td>    0.771</td> <td> 0.441</td> <td>   -0.479</td> <td>    1.099</td>\n",
       "</tr>\n",
       "<tr>\n",
       "  <th>c_Thriller</th>        <td>   -0.0252</td> <td>    0.032</td> <td>   -0.777</td> <td> 0.437</td> <td>   -0.089</td> <td>    0.038</td>\n",
       "</tr>\n",
       "<tr>\n",
       "  <th>c_War</th>             <td>   -0.0653</td> <td>    0.072</td> <td>   -0.909</td> <td> 0.364</td> <td>   -0.206</td> <td>    0.076</td>\n",
       "</tr>\n",
       "<tr>\n",
       "  <th>c_Western</th>         <td>    0.0056</td> <td>    0.096</td> <td>    0.059</td> <td> 0.953</td> <td>   -0.183</td> <td>    0.195</td>\n",
       "</tr>\n",
       "</table>\n",
       "<table class=\"simpletable\">\n",
       "<tr>\n",
       "  <th>Omnibus:</th>       <td>263.254</td> <th>  Durbin-Watson:     </th> <td>   2.001</td>\n",
       "</tr>\n",
       "<tr>\n",
       "  <th>Prob(Omnibus):</th> <td> 0.000</td>  <th>  Jarque-Bera (JB):  </th> <td> 437.514</td>\n",
       "</tr>\n",
       "<tr>\n",
       "  <th>Skew:</th>          <td>-0.604</td>  <th>  Prob(JB):          </th> <td>9.89e-96</td>\n",
       "</tr>\n",
       "<tr>\n",
       "  <th>Kurtosis:</th>      <td> 4.342</td>  <th>  Cond. No.          </th> <td>7.47e+09</td>\n",
       "</tr>\n",
       "</table>"
      ],
      "text/plain": [
       "<class 'statsmodels.iolib.summary.Summary'>\n",
       "\"\"\"\n",
       "                            OLS Regression Results                            \n",
       "==============================================================================\n",
       "Dep. Variable:           vote_average   R-squared:                       0.363\n",
       "Model:                            OLS   Adj. R-squared:                  0.359\n",
       "Method:                 Least Squares   F-statistic:                     95.94\n",
       "Date:                Thu, 08 Nov 2018   Prob (F-statistic):          1.42e-295\n",
       "Time:                        15:04:26   Log-Likelihood:                -3389.3\n",
       "No. Observations:                3220   AIC:                             6819.\n",
       "Df Residuals:                    3200   BIC:                             6940.\n",
       "Df Model:                          19                                         \n",
       "Covariance Type:            nonrobust                                         \n",
       "=====================================================================================\n",
       "                        coef    std err          t      P>|t|      [0.025      0.975]\n",
       "-------------------------------------------------------------------------------------\n",
       "const                 4.4779      0.073     61.722      0.000       4.336       4.620\n",
       "runtime               0.0160      0.001     25.557      0.000       0.015       0.017\n",
       "budget            -6.789e-09   4.26e-10    -15.941      0.000   -7.62e-09   -5.95e-09\n",
       "revenue            8.025e-11    1.2e-10      0.670      0.503   -1.55e-10    3.15e-10\n",
       "vote_count            0.0003   1.63e-05     16.980      0.000       0.000       0.000\n",
       "popularity            0.0011      0.001      2.082      0.037    6.29e-05       0.002\n",
       "c_Action             -0.0096      0.033     -0.291      0.771      -0.075       0.055\n",
       "c_Adventure          -0.0911      0.035     -2.568      0.010      -0.161      -0.022\n",
       "c_Animation           0.2458      0.056      4.427      0.000       0.137       0.355\n",
       "c_Comedy             -0.0115      0.029     -0.393      0.694      -0.069       0.046\n",
       "c_History            -0.1066      0.065     -1.644      0.100      -0.234       0.021\n",
       "c_Horror              0.0497      0.043      1.165      0.244      -0.034       0.133\n",
       "c_Music              -0.0689      0.068     -1.011      0.312      -0.202       0.065\n",
       "c_Mystery            -0.0551      0.049     -1.114      0.265      -0.152       0.042\n",
       "c_Romance            -0.0167      0.035     -0.480      0.631      -0.085       0.051\n",
       "c_Science Fiction    -0.0022      0.039     -0.057      0.955      -0.079       0.075\n",
       "c_TV Movie            0.3102      0.403      0.771      0.441      -0.479       1.099\n",
       "c_Thriller           -0.0252      0.032     -0.777      0.437      -0.089       0.038\n",
       "c_War                -0.0653      0.072     -0.909      0.364      -0.206       0.076\n",
       "c_Western             0.0056      0.096      0.059      0.953      -0.183       0.195\n",
       "==============================================================================\n",
       "Omnibus:                      263.254   Durbin-Watson:                   2.001\n",
       "Prob(Omnibus):                  0.000   Jarque-Bera (JB):              437.514\n",
       "Skew:                          -0.604   Prob(JB):                     9.89e-96\n",
       "Kurtosis:                       4.342   Cond. No.                     7.47e+09\n",
       "==============================================================================\n",
       "\n",
       "Warnings:\n",
       "[1] Standard Errors assume that the covariance matrix of the errors is correctly specified.\n",
       "[2] The condition number is large, 7.47e+09. This might indicate that there are\n",
       "strong multicollinearity or other numerical problems.\n",
       "\"\"\""
      ]
     },
     "execution_count": 250,
     "metadata": {},
     "output_type": "execute_result"
    }
   ],
   "source": [
    "results = regress(X,Y)\n",
    "results.summary()"
   ]
  },
  {
   "cell_type": "markdown",
   "metadata": {},
   "source": [
    "Adotamos um ALFA de 5%, então tiramos os valores que tem um P>T maior que o ALFA "
   ]
  },
  {
   "cell_type": "code",
   "execution_count": 251,
   "metadata": {},
   "outputs": [],
   "source": [
    "X = df[[\"runtime\",\"budget\",\"revenue\",\"vote_count\", \"popularity\"]]"
   ]
  },
  {
   "cell_type": "markdown",
   "metadata": {},
   "source": [
    "Separando o dataframe em teste e treinamento"
   ]
  },
  {
   "cell_type": "code",
   "execution_count": 252,
   "metadata": {},
   "outputs": [],
   "source": [
    "from sklearn.model_selection import train_test_split\n",
    "X_train, X_test, y_train, y_test = train_test_split(X, Y, test_size=0.33, random_state=RANDOM_SEED)"
   ]
  },
  {
   "cell_type": "markdown",
   "metadata": {},
   "source": [
    "Treinando, criando , testando e calculando o modelo de regressão linear"
   ]
  },
  {
   "cell_type": "code",
   "execution_count": 253,
   "metadata": {},
   "outputs": [
    {
     "data": {
      "text/plain": [
       "0.38094718882784806"
      ]
     },
     "execution_count": 253,
     "metadata": {},
     "output_type": "execute_result"
    }
   ],
   "source": [
    "from sklearn.linear_model import LinearRegression\n",
    "from sklearn.metrics import mean_squared_error\n",
    "\n",
    "model = LinearRegression()       #cria\n",
    "model.fit(X_train, y_train)        #treina \n",
    "y_pred = model.predict(X_test)      #testa \n",
    "\n",
    "1 - mean_squared_error(y_test, y_pred) / np.var(y_test)"
   ]
  },
  {
   "cell_type": "code",
   "execution_count": 254,
   "metadata": {},
   "outputs": [
    {
     "data": {
      "text/plain": [
       "0.4281948562992448"
      ]
     },
     "execution_count": 254,
     "metadata": {},
     "output_type": "execute_result"
    }
   ],
   "source": [
    "from sklearn.ensemble import RandomForestRegressor\n",
    "from sklearn.metrics import mean_squared_error\n",
    "\n",
    "model = RandomForestRegressor()       #cria\n",
    "model.fit(X_train, y_train)        #treina \n",
    "y_pred = model.predict(X_test)      #testa \n",
    "\n",
    "1 - mean_squared_error(y_test, y_pred) / np.var(y_test)"
   ]
  },
  {
   "cell_type": "code",
   "execution_count": null,
   "metadata": {},
   "outputs": [],
   "source": []
  }
 ],
 "metadata": {
  "kernelspec": {
   "display_name": "Python 3",
   "language": "python",
   "name": "python3"
  },
  "language_info": {
   "codemirror_mode": {
    "name": "ipython",
    "version": 3
   },
   "file_extension": ".py",
   "mimetype": "text/x-python",
   "name": "python",
   "nbconvert_exporter": "python",
   "pygments_lexer": "ipython3",
   "version": "3.6.4"
  }
 },
 "nbformat": 4,
 "nbformat_minor": 2
}
