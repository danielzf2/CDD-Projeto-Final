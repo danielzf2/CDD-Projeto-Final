{
 "cells": [
  {
   "cell_type": "markdown",
   "metadata": {},
   "source": [
    "#                     Projeto Final CDD- Prever a nota de um filme no IDB"
   ]
  },
  {
   "cell_type": "code",
   "execution_count": 153,
   "metadata": {},
   "outputs": [],
   "source": [
    "%matplotlib inline\n",
    "import matplotlib.pyplot as plt\n",
    "import matplotlib\n",
    "import pandas as pd\n",
    "import seaborn as sns\n",
    "import numpy as np\n",
    "from scipy.stats import norm, probplot\n",
    "import statsmodels.api as sm\n",
    "from mpl_toolkits.mplot3d import Axes3D\n",
    "import json\n",
    "\n",
    "RANDOM_SEED = 42\n",
    "\n",
    "np.random.seed(RANDOM_SEED)"
   ]
  },
  {
   "cell_type": "code",
   "execution_count": 154,
   "metadata": {},
   "outputs": [],
   "source": [
    "### Função utilitária para fazer a regressão com constante adicionada\n",
    "def regress(X,Y):\n",
    "    X_cp = sm.add_constant(X)\n",
    "    model = sm.OLS(Y,X_cp)\n",
    "    results = model.fit()\n",
    "    return results"
   ]
  },
  {
   "cell_type": "code",
   "execution_count": 155,
   "metadata": {},
   "outputs": [],
   "source": [
    "dados_filmes= pd.read_csv(\"tmdb_5000_movies.csv\")"
   ]
  },
  {
   "cell_type": "markdown",
   "metadata": {},
   "source": [
    "# Começaremos analisando os dados do Dataset\n",
    "\n",
    "## As variáveis numéricas que analisaremos, para ver se há uma relação com a nota do filme, será as numéricas. Estas serão:\n",
    "\n",
    "### title, runtime budget, revenue, popularity, vote_average, vote_count"
   ]
  },
  {
   "cell_type": "markdown",
   "metadata": {},
   "source": [
    "## Construindo o Dataframe"
   ]
  },
  {
   "cell_type": "code",
   "execution_count": 156,
   "metadata": {},
   "outputs": [],
   "source": [
    "dados_novos = dados_filmes[[\"title\",\"runtime\",\"budget\",\"revenue\", \"vote_average\", \"vote_count\", \"popularity\",\"genres\"]].copy()\n",
    "\n"
   ]
  },
  {
   "cell_type": "markdown",
   "metadata": {},
   "source": [
    "#### Criação de colunas com o nome dos generos, sendo 1 para quando o filme é daquela categoria e 0 para quando não é , isso foi feito para tirar a coluna genre"
   ]
  },
  {
   "cell_type": "code",
   "execution_count": 157,
   "metadata": {},
   "outputs": [
    {
     "data": {
      "text/plain": [
       "{'Action',\n",
       " 'Adventure',\n",
       " 'Animation',\n",
       " 'Comedy',\n",
       " 'Crime',\n",
       " 'Documentary',\n",
       " 'Drama',\n",
       " 'Family',\n",
       " 'Fantasy',\n",
       " 'Foreign',\n",
       " 'History',\n",
       " 'Horror',\n",
       " 'Music',\n",
       " 'Mystery',\n",
       " 'Romance',\n",
       " 'Science Fiction',\n",
       " 'TV Movie',\n",
       " 'Thriller',\n",
       " 'War',\n",
       " 'Western'}"
      ]
     },
     "execution_count": 157,
     "metadata": {},
     "output_type": "execute_result"
    }
   ],
   "source": [
    "genres = set()\n",
    "for x in dados_novos['genres']:\n",
    "    for g in json.loads(x):\n",
    "        genres.add(g[\"name\"])\n",
    "\n",
    "genres"
   ]
  },
  {
   "cell_type": "markdown",
   "metadata": {},
   "source": [
    "#### Criacão do novo dataframe incluindo as novas colunas de gênero"
   ]
  },
  {
   "cell_type": "code",
   "execution_count": 158,
   "metadata": {},
   "outputs": [],
   "source": [
    "def extrai_generos(item):\n",
    "    generos = {'c_' + x: 0 for x in ['Action', 'Adventure', 'Animation', 'Comedy', 'Crime', \n",
    "                              'Documentary', 'Drama', 'Family', 'Fantasy', 'Foreign', \n",
    "                              'History', 'Horror', 'Music', 'Mystery', 'Romance', \n",
    "                              'Science Fiction', 'TV Movie', 'Thriller', 'War', 'Western']}\n",
    "    for g in json.loads(item):\n",
    "        generos['c_' + g['name']] += 1\n",
    "    return generos\n",
    "\n",
    "dados_novos_teste = pd.DataFrame(list(dados_novos['genres'].apply(extrai_generos).values))\n",
    "\n",
    "dados_novos_junto = dados_novos.join(dados_novos_teste)\n",
    "\n",
    "dados_novos_junto.set_index(\"title\",inplace=True)"
   ]
  },
  {
   "cell_type": "code",
   "execution_count": 159,
   "metadata": {},
   "outputs": [],
   "source": [
    "dados_novos_junto.drop(columns= \"genres\", inplace=True)\n",
    "\n"
   ]
  },
  {
   "cell_type": "markdown",
   "metadata": {},
   "source": [
    "## Variáveis para a análise"
   ]
  },
  {
   "cell_type": "markdown",
   "metadata": {},
   "source": [
    "**Dicionário de dados:**\n",
    "\n",
    "\n",
    "Variável | Descrição\n",
    ":---:|---:\n",
    "title | Título do filme\n",
    "runtime | Tempo de filme\n",
    "budget | Orçamento\n",
    "revenue | Receita\n",
    "vote_average | Média dos votos\n",
    "vote_count | Número de votos das pessoas\n",
    "popularity | Popularidade\n",
    "genres | Os diferentes gêneros de filme"
   ]
  },
  {
   "cell_type": "markdown",
   "metadata": {},
   "source": [
    "## Com a ajuda do comando Describe, poderemos analisar fatores importantes do Dataframe\n",
    "\n",
    "\n",
    " "
   ]
  },
  {
   "cell_type": "code",
   "execution_count": 160,
   "metadata": {},
   "outputs": [
    {
     "data": {
      "text/html": [
       "<div>\n",
       "<style scoped>\n",
       "    .dataframe tbody tr th:only-of-type {\n",
       "        vertical-align: middle;\n",
       "    }\n",
       "\n",
       "    .dataframe tbody tr th {\n",
       "        vertical-align: top;\n",
       "    }\n",
       "\n",
       "    .dataframe thead th {\n",
       "        text-align: right;\n",
       "    }\n",
       "</style>\n",
       "<table border=\"1\" class=\"dataframe\">\n",
       "  <thead>\n",
       "    <tr style=\"text-align: right;\">\n",
       "      <th></th>\n",
       "      <th>runtime</th>\n",
       "      <th>budget</th>\n",
       "      <th>revenue</th>\n",
       "      <th>vote_average</th>\n",
       "      <th>vote_count</th>\n",
       "      <th>popularity</th>\n",
       "      <th>c_Action</th>\n",
       "      <th>c_Adventure</th>\n",
       "      <th>c_Animation</th>\n",
       "      <th>c_Comedy</th>\n",
       "      <th>...</th>\n",
       "      <th>c_History</th>\n",
       "      <th>c_Horror</th>\n",
       "      <th>c_Music</th>\n",
       "      <th>c_Mystery</th>\n",
       "      <th>c_Romance</th>\n",
       "      <th>c_Science Fiction</th>\n",
       "      <th>c_TV Movie</th>\n",
       "      <th>c_Thriller</th>\n",
       "      <th>c_War</th>\n",
       "      <th>c_Western</th>\n",
       "    </tr>\n",
       "  </thead>\n",
       "  <tbody>\n",
       "    <tr>\n",
       "      <th>count</th>\n",
       "      <td>4801.000000</td>\n",
       "      <td>4.803000e+03</td>\n",
       "      <td>4.803000e+03</td>\n",
       "      <td>4803.000000</td>\n",
       "      <td>4803.000000</td>\n",
       "      <td>4803.000000</td>\n",
       "      <td>4803.000000</td>\n",
       "      <td>4803.000000</td>\n",
       "      <td>4803.000000</td>\n",
       "      <td>4803.000000</td>\n",
       "      <td>...</td>\n",
       "      <td>4803.000000</td>\n",
       "      <td>4803.000000</td>\n",
       "      <td>4803.000000</td>\n",
       "      <td>4803.000000</td>\n",
       "      <td>4803.000000</td>\n",
       "      <td>4803.000000</td>\n",
       "      <td>4803.000000</td>\n",
       "      <td>4803.000000</td>\n",
       "      <td>4803.000000</td>\n",
       "      <td>4803.000000</td>\n",
       "    </tr>\n",
       "    <tr>\n",
       "      <th>mean</th>\n",
       "      <td>106.875859</td>\n",
       "      <td>2.904504e+07</td>\n",
       "      <td>8.226064e+07</td>\n",
       "      <td>6.092172</td>\n",
       "      <td>690.217989</td>\n",
       "      <td>21.492301</td>\n",
       "      <td>0.240267</td>\n",
       "      <td>0.164481</td>\n",
       "      <td>0.048720</td>\n",
       "      <td>0.358526</td>\n",
       "      <td>...</td>\n",
       "      <td>0.041016</td>\n",
       "      <td>0.108057</td>\n",
       "      <td>0.038518</td>\n",
       "      <td>0.072455</td>\n",
       "      <td>0.186134</td>\n",
       "      <td>0.111389</td>\n",
       "      <td>0.001666</td>\n",
       "      <td>0.265251</td>\n",
       "      <td>0.029981</td>\n",
       "      <td>0.017073</td>\n",
       "    </tr>\n",
       "    <tr>\n",
       "      <th>std</th>\n",
       "      <td>22.611935</td>\n",
       "      <td>4.072239e+07</td>\n",
       "      <td>1.628571e+08</td>\n",
       "      <td>1.194612</td>\n",
       "      <td>1234.585891</td>\n",
       "      <td>31.816650</td>\n",
       "      <td>0.427290</td>\n",
       "      <td>0.370750</td>\n",
       "      <td>0.215304</td>\n",
       "      <td>0.479618</td>\n",
       "      <td>...</td>\n",
       "      <td>0.198348</td>\n",
       "      <td>0.310485</td>\n",
       "      <td>0.192462</td>\n",
       "      <td>0.259266</td>\n",
       "      <td>0.389255</td>\n",
       "      <td>0.314646</td>\n",
       "      <td>0.040782</td>\n",
       "      <td>0.441513</td>\n",
       "      <td>0.170553</td>\n",
       "      <td>0.129556</td>\n",
       "    </tr>\n",
       "    <tr>\n",
       "      <th>min</th>\n",
       "      <td>0.000000</td>\n",
       "      <td>0.000000e+00</td>\n",
       "      <td>0.000000e+00</td>\n",
       "      <td>0.000000</td>\n",
       "      <td>0.000000</td>\n",
       "      <td>0.000000</td>\n",
       "      <td>0.000000</td>\n",
       "      <td>0.000000</td>\n",
       "      <td>0.000000</td>\n",
       "      <td>0.000000</td>\n",
       "      <td>...</td>\n",
       "      <td>0.000000</td>\n",
       "      <td>0.000000</td>\n",
       "      <td>0.000000</td>\n",
       "      <td>0.000000</td>\n",
       "      <td>0.000000</td>\n",
       "      <td>0.000000</td>\n",
       "      <td>0.000000</td>\n",
       "      <td>0.000000</td>\n",
       "      <td>0.000000</td>\n",
       "      <td>0.000000</td>\n",
       "    </tr>\n",
       "    <tr>\n",
       "      <th>25%</th>\n",
       "      <td>94.000000</td>\n",
       "      <td>7.900000e+05</td>\n",
       "      <td>0.000000e+00</td>\n",
       "      <td>5.600000</td>\n",
       "      <td>54.000000</td>\n",
       "      <td>4.668070</td>\n",
       "      <td>0.000000</td>\n",
       "      <td>0.000000</td>\n",
       "      <td>0.000000</td>\n",
       "      <td>0.000000</td>\n",
       "      <td>...</td>\n",
       "      <td>0.000000</td>\n",
       "      <td>0.000000</td>\n",
       "      <td>0.000000</td>\n",
       "      <td>0.000000</td>\n",
       "      <td>0.000000</td>\n",
       "      <td>0.000000</td>\n",
       "      <td>0.000000</td>\n",
       "      <td>0.000000</td>\n",
       "      <td>0.000000</td>\n",
       "      <td>0.000000</td>\n",
       "    </tr>\n",
       "    <tr>\n",
       "      <th>50%</th>\n",
       "      <td>103.000000</td>\n",
       "      <td>1.500000e+07</td>\n",
       "      <td>1.917000e+07</td>\n",
       "      <td>6.200000</td>\n",
       "      <td>235.000000</td>\n",
       "      <td>12.921594</td>\n",
       "      <td>0.000000</td>\n",
       "      <td>0.000000</td>\n",
       "      <td>0.000000</td>\n",
       "      <td>0.000000</td>\n",
       "      <td>...</td>\n",
       "      <td>0.000000</td>\n",
       "      <td>0.000000</td>\n",
       "      <td>0.000000</td>\n",
       "      <td>0.000000</td>\n",
       "      <td>0.000000</td>\n",
       "      <td>0.000000</td>\n",
       "      <td>0.000000</td>\n",
       "      <td>0.000000</td>\n",
       "      <td>0.000000</td>\n",
       "      <td>0.000000</td>\n",
       "    </tr>\n",
       "    <tr>\n",
       "      <th>75%</th>\n",
       "      <td>118.000000</td>\n",
       "      <td>4.000000e+07</td>\n",
       "      <td>9.291719e+07</td>\n",
       "      <td>6.800000</td>\n",
       "      <td>737.000000</td>\n",
       "      <td>28.313505</td>\n",
       "      <td>0.000000</td>\n",
       "      <td>0.000000</td>\n",
       "      <td>0.000000</td>\n",
       "      <td>1.000000</td>\n",
       "      <td>...</td>\n",
       "      <td>0.000000</td>\n",
       "      <td>0.000000</td>\n",
       "      <td>0.000000</td>\n",
       "      <td>0.000000</td>\n",
       "      <td>0.000000</td>\n",
       "      <td>0.000000</td>\n",
       "      <td>0.000000</td>\n",
       "      <td>1.000000</td>\n",
       "      <td>0.000000</td>\n",
       "      <td>0.000000</td>\n",
       "    </tr>\n",
       "    <tr>\n",
       "      <th>max</th>\n",
       "      <td>338.000000</td>\n",
       "      <td>3.800000e+08</td>\n",
       "      <td>2.787965e+09</td>\n",
       "      <td>10.000000</td>\n",
       "      <td>13752.000000</td>\n",
       "      <td>875.581305</td>\n",
       "      <td>1.000000</td>\n",
       "      <td>1.000000</td>\n",
       "      <td>1.000000</td>\n",
       "      <td>1.000000</td>\n",
       "      <td>...</td>\n",
       "      <td>1.000000</td>\n",
       "      <td>1.000000</td>\n",
       "      <td>1.000000</td>\n",
       "      <td>1.000000</td>\n",
       "      <td>1.000000</td>\n",
       "      <td>1.000000</td>\n",
       "      <td>1.000000</td>\n",
       "      <td>1.000000</td>\n",
       "      <td>1.000000</td>\n",
       "      <td>1.000000</td>\n",
       "    </tr>\n",
       "  </tbody>\n",
       "</table>\n",
       "<p>8 rows × 26 columns</p>\n",
       "</div>"
      ],
      "text/plain": [
       "           runtime        budget       revenue  vote_average    vote_count  \\\n",
       "count  4801.000000  4.803000e+03  4.803000e+03   4803.000000   4803.000000   \n",
       "mean    106.875859  2.904504e+07  8.226064e+07      6.092172    690.217989   \n",
       "std      22.611935  4.072239e+07  1.628571e+08      1.194612   1234.585891   \n",
       "min       0.000000  0.000000e+00  0.000000e+00      0.000000      0.000000   \n",
       "25%      94.000000  7.900000e+05  0.000000e+00      5.600000     54.000000   \n",
       "50%     103.000000  1.500000e+07  1.917000e+07      6.200000    235.000000   \n",
       "75%     118.000000  4.000000e+07  9.291719e+07      6.800000    737.000000   \n",
       "max     338.000000  3.800000e+08  2.787965e+09     10.000000  13752.000000   \n",
       "\n",
       "        popularity     c_Action  c_Adventure  c_Animation     c_Comedy  \\\n",
       "count  4803.000000  4803.000000  4803.000000  4803.000000  4803.000000   \n",
       "mean     21.492301     0.240267     0.164481     0.048720     0.358526   \n",
       "std      31.816650     0.427290     0.370750     0.215304     0.479618   \n",
       "min       0.000000     0.000000     0.000000     0.000000     0.000000   \n",
       "25%       4.668070     0.000000     0.000000     0.000000     0.000000   \n",
       "50%      12.921594     0.000000     0.000000     0.000000     0.000000   \n",
       "75%      28.313505     0.000000     0.000000     0.000000     1.000000   \n",
       "max     875.581305     1.000000     1.000000     1.000000     1.000000   \n",
       "\n",
       "          ...         c_History     c_Horror      c_Music    c_Mystery  \\\n",
       "count     ...       4803.000000  4803.000000  4803.000000  4803.000000   \n",
       "mean      ...          0.041016     0.108057     0.038518     0.072455   \n",
       "std       ...          0.198348     0.310485     0.192462     0.259266   \n",
       "min       ...          0.000000     0.000000     0.000000     0.000000   \n",
       "25%       ...          0.000000     0.000000     0.000000     0.000000   \n",
       "50%       ...          0.000000     0.000000     0.000000     0.000000   \n",
       "75%       ...          0.000000     0.000000     0.000000     0.000000   \n",
       "max       ...          1.000000     1.000000     1.000000     1.000000   \n",
       "\n",
       "         c_Romance  c_Science Fiction   c_TV Movie   c_Thriller        c_War  \\\n",
       "count  4803.000000        4803.000000  4803.000000  4803.000000  4803.000000   \n",
       "mean      0.186134           0.111389     0.001666     0.265251     0.029981   \n",
       "std       0.389255           0.314646     0.040782     0.441513     0.170553   \n",
       "min       0.000000           0.000000     0.000000     0.000000     0.000000   \n",
       "25%       0.000000           0.000000     0.000000     0.000000     0.000000   \n",
       "50%       0.000000           0.000000     0.000000     0.000000     0.000000   \n",
       "75%       0.000000           0.000000     0.000000     1.000000     0.000000   \n",
       "max       1.000000           1.000000     1.000000     1.000000     1.000000   \n",
       "\n",
       "         c_Western  \n",
       "count  4803.000000  \n",
       "mean      0.017073  \n",
       "std       0.129556  \n",
       "min       0.000000  \n",
       "25%       0.000000  \n",
       "50%       0.000000  \n",
       "75%       0.000000  \n",
       "max       1.000000  \n",
       "\n",
       "[8 rows x 26 columns]"
      ]
     },
     "execution_count": 160,
     "metadata": {},
     "output_type": "execute_result"
    }
   ],
   "source": [
    "dados_novos_junto.describe()"
   ]
  },
  {
   "cell_type": "code",
   "execution_count": 161,
   "metadata": {},
   "outputs": [],
   "source": [
    "df = dados_novos_junto"
   ]
  },
  {
   "cell_type": "markdown",
   "metadata": {},
   "source": [
    "### Verificando valores nulos das variáveis em certa coluna"
   ]
  },
  {
   "cell_type": "code",
   "execution_count": 162,
   "metadata": {},
   "outputs": [
    {
     "data": {
      "text/plain": [
       "runtime              2\n",
       "budget               0\n",
       "revenue              0\n",
       "vote_average         0\n",
       "vote_count           0\n",
       "popularity           0\n",
       "c_Action             0\n",
       "c_Adventure          0\n",
       "c_Animation          0\n",
       "c_Comedy             0\n",
       "c_Crime              0\n",
       "c_Documentary        0\n",
       "c_Drama              0\n",
       "c_Family             0\n",
       "c_Fantasy            0\n",
       "c_Foreign            0\n",
       "c_History            0\n",
       "c_Horror             0\n",
       "c_Music              0\n",
       "c_Mystery            0\n",
       "c_Romance            0\n",
       "c_Science Fiction    0\n",
       "c_TV Movie           0\n",
       "c_Thriller           0\n",
       "c_War                0\n",
       "c_Western            0\n",
       "dtype: int64"
      ]
     },
     "execution_count": 162,
     "metadata": {},
     "output_type": "execute_result"
    }
   ],
   "source": [
    "np.sum(df.isnull())"
   ]
  },
  {
   "cell_type": "markdown",
   "metadata": {},
   "source": [
    "### Tirando os dados Nan"
   ]
  },
  {
   "cell_type": "code",
   "execution_count": 163,
   "metadata": {},
   "outputs": [],
   "source": [
    "df = df.dropna()"
   ]
  },
  {
   "cell_type": "markdown",
   "metadata": {},
   "source": [
    "## Separação das  variáveis"
   ]
  },
  {
   "cell_type": "code",
   "execution_count": 164,
   "metadata": {},
   "outputs": [],
   "source": [
    "Y = df[ \"vote_average\"]"
   ]
  },
  {
   "cell_type": "code",
   "execution_count": 165,
   "metadata": {},
   "outputs": [],
   "source": [
    "X = df[[\"runtime\",\"budget\",\"revenue\",\"vote_count\", \"popularity\",\"c_Action\", \"c_Adventure\",\"c_Animation\",\"c_Comedy\",\"c_History\",\n",
    "        \"c_Horror\",\"c_Music\",\"c_Mystery\",\"c_Romance\",\"c_Science Fiction\",\"c_TV Movie\",\"c_Thriller\",\"c_War\",\"c_Western\"]]"
   ]
  },
  {
   "cell_type": "markdown",
   "metadata": {},
   "source": [
    "## Uso da função Regress"
   ]
  },
  {
   "cell_type": "code",
   "execution_count": 166,
   "metadata": {},
   "outputs": [
    {
     "data": {
      "text/html": [
       "<table class=\"simpletable\">\n",
       "<caption>OLS Regression Results</caption>\n",
       "<tr>\n",
       "  <th>Dep. Variable:</th>      <td>vote_average</td>   <th>  R-squared:         </th> <td>   0.249</td> \n",
       "</tr>\n",
       "<tr>\n",
       "  <th>Model:</th>                   <td>OLS</td>       <th>  Adj. R-squared:    </th> <td>   0.246</td> \n",
       "</tr>\n",
       "<tr>\n",
       "  <th>Method:</th>             <td>Least Squares</td>  <th>  F-statistic:       </th> <td>   83.64</td> \n",
       "</tr>\n",
       "<tr>\n",
       "  <th>Date:</th>             <td>Thu, 08 Nov 2018</td> <th>  Prob (F-statistic):</th> <td>3.83e-280</td>\n",
       "</tr>\n",
       "<tr>\n",
       "  <th>Time:</th>                 <td>14:34:34</td>     <th>  Log-Likelihood:    </th> <td> -6964.1</td> \n",
       "</tr>\n",
       "<tr>\n",
       "  <th>No. Observations:</th>      <td>  4801</td>      <th>  AIC:               </th> <td>1.397e+04</td>\n",
       "</tr>\n",
       "<tr>\n",
       "  <th>Df Residuals:</th>          <td>  4781</td>      <th>  BIC:               </th> <td>1.410e+04</td>\n",
       "</tr>\n",
       "<tr>\n",
       "  <th>Df Model:</th>              <td>    19</td>      <th>                     </th>     <td> </td>    \n",
       "</tr>\n",
       "<tr>\n",
       "  <th>Covariance Type:</th>      <td>nonrobust</td>    <th>                     </th>     <td> </td>    \n",
       "</tr>\n",
       "</table>\n",
       "<table class=\"simpletable\">\n",
       "<tr>\n",
       "          <td></td>             <th>coef</th>     <th>std err</th>      <th>t</th>      <th>P>|t|</th>  <th>[0.025</th>    <th>0.975]</th>  \n",
       "</tr>\n",
       "<tr>\n",
       "  <th>const</th>             <td>    4.2513</td> <td>    0.088</td> <td>   48.479</td> <td> 0.000</td> <td>    4.079</td> <td>    4.423</td>\n",
       "</tr>\n",
       "<tr>\n",
       "  <th>runtime</th>           <td>    0.0171</td> <td>    0.001</td> <td>   21.893</td> <td> 0.000</td> <td>    0.016</td> <td>    0.019</td>\n",
       "</tr>\n",
       "<tr>\n",
       "  <th>budget</th>            <td>-5.303e-09</td> <td> 5.76e-10</td> <td>   -9.202</td> <td> 0.000</td> <td>-6.43e-09</td> <td>-4.17e-09</td>\n",
       "</tr>\n",
       "<tr>\n",
       "  <th>revenue</th>           <td> -4.88e-10</td> <td> 1.77e-10</td> <td>   -2.757</td> <td> 0.006</td> <td>-8.35e-10</td> <td>-1.41e-10</td>\n",
       "</tr>\n",
       "<tr>\n",
       "  <th>vote_count</th>        <td>    0.0003</td> <td> 2.42e-05</td> <td>   13.181</td> <td> 0.000</td> <td>    0.000</td> <td>    0.000</td>\n",
       "</tr>\n",
       "<tr>\n",
       "  <th>popularity</th>        <td>    0.0032</td> <td>    0.001</td> <td>    4.226</td> <td> 0.000</td> <td>    0.002</td> <td>    0.005</td>\n",
       "</tr>\n",
       "<tr>\n",
       "  <th>c_Action</th>          <td>   -0.2030</td> <td>    0.042</td> <td>   -4.854</td> <td> 0.000</td> <td>   -0.285</td> <td>   -0.121</td>\n",
       "</tr>\n",
       "<tr>\n",
       "  <th>c_Adventure</th>       <td>   -0.0304</td> <td>    0.047</td> <td>   -0.641</td> <td> 0.522</td> <td>   -0.123</td> <td>    0.062</td>\n",
       "</tr>\n",
       "<tr>\n",
       "  <th>c_Animation</th>       <td>    0.5867</td> <td>    0.076</td> <td>    7.688</td> <td> 0.000</td> <td>    0.437</td> <td>    0.736</td>\n",
       "</tr>\n",
       "<tr>\n",
       "  <th>c_Comedy</th>          <td>   -0.0843</td> <td>    0.035</td> <td>   -2.396</td> <td> 0.017</td> <td>   -0.153</td> <td>   -0.015</td>\n",
       "</tr>\n",
       "<tr>\n",
       "  <th>c_History</th>         <td>    0.1387</td> <td>    0.083</td> <td>    1.671</td> <td> 0.095</td> <td>   -0.024</td> <td>    0.301</td>\n",
       "</tr>\n",
       "<tr>\n",
       "  <th>c_Horror</th>          <td>   -0.3147</td> <td>    0.052</td> <td>   -6.038</td> <td> 0.000</td> <td>   -0.417</td> <td>   -0.213</td>\n",
       "</tr>\n",
       "<tr>\n",
       "  <th>c_Music</th>           <td>    0.1816</td> <td>    0.079</td> <td>    2.307</td> <td> 0.021</td> <td>    0.027</td> <td>    0.336</td>\n",
       "</tr>\n",
       "<tr>\n",
       "  <th>c_Mystery</th>         <td>    0.0798</td> <td>    0.061</td> <td>    1.310</td> <td> 0.190</td> <td>   -0.040</td> <td>    0.199</td>\n",
       "</tr>\n",
       "<tr>\n",
       "  <th>c_Romance</th>         <td>    0.0791</td> <td>    0.041</td> <td>    1.936</td> <td> 0.053</td> <td>   -0.001</td> <td>    0.159</td>\n",
       "</tr>\n",
       "<tr>\n",
       "  <th>c_Science Fiction</th> <td>   -0.1479</td> <td>    0.051</td> <td>   -2.915</td> <td> 0.004</td> <td>   -0.247</td> <td>   -0.048</td>\n",
       "</tr>\n",
       "<tr>\n",
       "  <th>c_TV Movie</th>        <td>   -0.1468</td> <td>    0.367</td> <td>   -0.401</td> <td> 0.689</td> <td>   -0.865</td> <td>    0.572</td>\n",
       "</tr>\n",
       "<tr>\n",
       "  <th>c_Thriller</th>        <td>   -0.0197</td> <td>    0.040</td> <td>   -0.490</td> <td> 0.624</td> <td>   -0.098</td> <td>    0.059</td>\n",
       "</tr>\n",
       "<tr>\n",
       "  <th>c_War</th>             <td>    0.1450</td> <td>    0.094</td> <td>    1.546</td> <td> 0.122</td> <td>   -0.039</td> <td>    0.329</td>\n",
       "</tr>\n",
       "<tr>\n",
       "  <th>c_Western</th>         <td>   -0.0944</td> <td>    0.117</td> <td>   -0.810</td> <td> 0.418</td> <td>   -0.323</td> <td>    0.134</td>\n",
       "</tr>\n",
       "</table>\n",
       "<table class=\"simpletable\">\n",
       "<tr>\n",
       "  <th>Omnibus:</th>       <td>2475.762</td> <th>  Durbin-Watson:     </th> <td>   1.957</td> \n",
       "</tr>\n",
       "<tr>\n",
       "  <th>Prob(Omnibus):</th>  <td> 0.000</td>  <th>  Jarque-Bera (JB):  </th> <td>27660.925</td>\n",
       "</tr>\n",
       "<tr>\n",
       "  <th>Skew:</th>           <td>-2.210</td>  <th>  Prob(JB):          </th> <td>    0.00</td> \n",
       "</tr>\n",
       "<tr>\n",
       "  <th>Kurtosis:</th>       <td>13.897</td>  <th>  Cond. No.          </th> <td>4.59e+09</td> \n",
       "</tr>\n",
       "</table>"
      ],
      "text/plain": [
       "<class 'statsmodels.iolib.summary.Summary'>\n",
       "\"\"\"\n",
       "                            OLS Regression Results                            \n",
       "==============================================================================\n",
       "Dep. Variable:           vote_average   R-squared:                       0.249\n",
       "Model:                            OLS   Adj. R-squared:                  0.246\n",
       "Method:                 Least Squares   F-statistic:                     83.64\n",
       "Date:                Thu, 08 Nov 2018   Prob (F-statistic):          3.83e-280\n",
       "Time:                        14:34:34   Log-Likelihood:                -6964.1\n",
       "No. Observations:                4801   AIC:                         1.397e+04\n",
       "Df Residuals:                    4781   BIC:                         1.410e+04\n",
       "Df Model:                          19                                         \n",
       "Covariance Type:            nonrobust                                         \n",
       "=====================================================================================\n",
       "                        coef    std err          t      P>|t|      [0.025      0.975]\n",
       "-------------------------------------------------------------------------------------\n",
       "const                 4.2513      0.088     48.479      0.000       4.079       4.423\n",
       "runtime               0.0171      0.001     21.893      0.000       0.016       0.019\n",
       "budget            -5.303e-09   5.76e-10     -9.202      0.000   -6.43e-09   -4.17e-09\n",
       "revenue            -4.88e-10   1.77e-10     -2.757      0.006   -8.35e-10   -1.41e-10\n",
       "vote_count            0.0003   2.42e-05     13.181      0.000       0.000       0.000\n",
       "popularity            0.0032      0.001      4.226      0.000       0.002       0.005\n",
       "c_Action             -0.2030      0.042     -4.854      0.000      -0.285      -0.121\n",
       "c_Adventure          -0.0304      0.047     -0.641      0.522      -0.123       0.062\n",
       "c_Animation           0.5867      0.076      7.688      0.000       0.437       0.736\n",
       "c_Comedy             -0.0843      0.035     -2.396      0.017      -0.153      -0.015\n",
       "c_History             0.1387      0.083      1.671      0.095      -0.024       0.301\n",
       "c_Horror             -0.3147      0.052     -6.038      0.000      -0.417      -0.213\n",
       "c_Music               0.1816      0.079      2.307      0.021       0.027       0.336\n",
       "c_Mystery             0.0798      0.061      1.310      0.190      -0.040       0.199\n",
       "c_Romance             0.0791      0.041      1.936      0.053      -0.001       0.159\n",
       "c_Science Fiction    -0.1479      0.051     -2.915      0.004      -0.247      -0.048\n",
       "c_TV Movie           -0.1468      0.367     -0.401      0.689      -0.865       0.572\n",
       "c_Thriller           -0.0197      0.040     -0.490      0.624      -0.098       0.059\n",
       "c_War                 0.1450      0.094      1.546      0.122      -0.039       0.329\n",
       "c_Western            -0.0944      0.117     -0.810      0.418      -0.323       0.134\n",
       "==============================================================================\n",
       "Omnibus:                     2475.762   Durbin-Watson:                   1.957\n",
       "Prob(Omnibus):                  0.000   Jarque-Bera (JB):            27660.925\n",
       "Skew:                          -2.210   Prob(JB):                         0.00\n",
       "Kurtosis:                      13.897   Cond. No.                     4.59e+09\n",
       "==============================================================================\n",
       "\n",
       "Warnings:\n",
       "[1] Standard Errors assume that the covariance matrix of the errors is correctly specified.\n",
       "[2] The condition number is large, 4.59e+09. This might indicate that there are\n",
       "strong multicollinearity or other numerical problems.\n",
       "\"\"\""
      ]
     },
     "execution_count": 166,
     "metadata": {},
     "output_type": "execute_result"
    }
   ],
   "source": [
    "results = regress(X,Y)\n",
    "results.summary()"
   ]
  },
  {
   "cell_type": "markdown",
   "metadata": {},
   "source": [
    "Separando o dataframe em teste e treinamento"
   ]
  },
  {
   "cell_type": "code",
   "execution_count": 167,
   "metadata": {},
   "outputs": [],
   "source": [
    "from sklearn.model_selection import train_test_split\n",
    "X_train, X_test, y_train, y_test = train_test_split(X, Y, test_size=0.33, random_state=RANDOM_SEED)"
   ]
  },
  {
   "cell_type": "markdown",
   "metadata": {},
   "source": [
    "Treinando, criando , testando e calculando o modelo de regressão linear"
   ]
  },
  {
   "cell_type": "code",
   "execution_count": 168,
   "metadata": {},
   "outputs": [
    {
     "data": {
      "text/plain": [
       "0.27665709161969665"
      ]
     },
     "execution_count": 168,
     "metadata": {},
     "output_type": "execute_result"
    }
   ],
   "source": [
    "from sklearn.linear_model import LinearRegression\n",
    "from sklearn.metrics import mean_squared_error\n",
    "\n",
    "model = LinearRegression()       #cria\n",
    "model.fit(X_train, y_train)        #treina \n",
    "y_pred = model.predict(X_test)      #testa \n",
    "\n",
    "1 - mean_squared_error(y_test, y_pred) / np.var(y_test)"
   ]
  }
 ],
 "metadata": {
  "kernelspec": {
   "display_name": "Python 3",
   "language": "python",
   "name": "python3"
  },
  "language_info": {
   "codemirror_mode": {
    "name": "ipython",
    "version": 3
   },
   "file_extension": ".py",
   "mimetype": "text/x-python",
   "name": "python",
   "nbconvert_exporter": "python",
   "pygments_lexer": "ipython3",
   "version": "3.6.4"
  }
 },
 "nbformat": 4,
 "nbformat_minor": 2
}
