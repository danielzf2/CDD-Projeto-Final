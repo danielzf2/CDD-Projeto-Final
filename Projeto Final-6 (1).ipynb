{
 "cells": [
  {
   "cell_type": "markdown",
   "metadata": {},
   "source": [
    "#                     Projeto Final CDD- Prever a nota de um filme no IMDB"
   ]
  },
  {
   "cell_type": "markdown",
   "metadata": {},
   "source": [
    "André Vital Tavernaro\n",
    "\n",
    "\n",
    "Daniel Zelv Freund\n",
    "\n",
    "\n",
    "Guilherme Batista"
   ]
  },
  {
   "cell_type": "code",
   "execution_count": 103,
   "metadata": {},
   "outputs": [],
   "source": [
    "%matplotlib inline\n",
    "import matplotlib.pyplot as plt\n",
    "import matplotlib\n",
    "import pandas as pd\n",
    "import seaborn as sns\n",
    "import numpy as np\n",
    "from scipy.stats import norm, probplot\n",
    "import statsmodels.api as sm\n",
    "from mpl_toolkits.mplot3d import Axes3D\n",
    "import json\n",
    "\n",
    "RANDOM_SEED = 42\n",
    "\n",
    "np.random.seed(RANDOM_SEED)"
   ]
  },
  {
   "cell_type": "code",
   "execution_count": 104,
   "metadata": {},
   "outputs": [],
   "source": [
    "### Função utilitária para fazer a regressão com constante adicionada\n",
    "def regress(X,Y):\n",
    "    X_cp = sm.add_constant(X)\n",
    "    model = sm.OLS(Y,X_cp)\n",
    "    results = model.fit()\n",
    "    return results"
   ]
  },
  {
   "cell_type": "code",
   "execution_count": 105,
   "metadata": {},
   "outputs": [],
   "source": [
    "dados_filmes= pd.read_csv(\"tmdb_5000_movies.csv\")"
   ]
  },
  {
   "cell_type": "markdown",
   "metadata": {},
   "source": [
    "#### Tiramos os valures nulos do dataframe da coluna budget"
   ]
  },
  {
   "cell_type": "code",
   "execution_count": 122,
   "metadata": {},
   "outputs": [],
   "source": [
    "dados_filmes.drop(dados_filmes[dados_filmes[\"budget\"]==0].index,inplace=True)"
   ]
  },
  {
   "cell_type": "markdown",
   "metadata": {},
   "source": [
    "## Construindo o Dataframe"
   ]
  },
  {
   "cell_type": "code",
   "execution_count": 107,
   "metadata": {},
   "outputs": [],
   "source": [
    "dados_novos = dados_filmes[[\"title\",\"runtime\",\"budget\",\"revenue\", \"vote_average\", \"vote_count\",\n",
    "                            \"popularity\",\"genres\", 'release_date']].copy()"
   ]
  },
  {
   "cell_type": "markdown",
   "metadata": {},
   "source": [
    "#### Criação de colunas com o nome dos generos, sendo 1 para quando o filme é daquela categoria e 0 para quando não é , isso foi feito para tirar a coluna genre"
   ]
  },
  {
   "cell_type": "code",
   "execution_count": 108,
   "metadata": {},
   "outputs": [],
   "source": [
    "genres = set()\n",
    "for x in dados_novos['genres']:\n",
    "    for g in json.loads(x):\n",
    "        genres.add(g[\"name\"])"
   ]
  },
  {
   "cell_type": "markdown",
   "metadata": {},
   "source": [
    "#### Criacão do novo dataframe incluindo as novas colunas de gênero"
   ]
  },
  {
   "cell_type": "code",
   "execution_count": 109,
   "metadata": {},
   "outputs": [],
   "source": [
    "def extrai_generos(item):\n",
    "    generos = {'c_' + x: 0 for x in ['Action', 'Adventure', 'Animation', 'Comedy', 'Crime', \n",
    "                              'Documentary', 'Drama', 'Family', 'Fantasy', 'Foreign', \n",
    "                              'History', 'Horror', 'Music', 'Mystery', 'Romance', \n",
    "                              'Science Fiction', 'TV Movie', 'Thriller', 'War', 'Western']}\n",
    "    for g in json.loads(item):\n",
    "        generos['c_' + g['name']] += 1\n",
    "    return generos\n",
    "\n",
    "dados_novos_teste = pd.DataFrame(list(dados_novos['genres'].apply(extrai_generos).values))\n",
    "\n",
    "dados_novos_junto = dados_novos.join(dados_novos_teste)\n",
    "\n",
    "dados_novos_junto.set_index(\"title\",inplace=True)"
   ]
  },
  {
   "cell_type": "code",
   "execution_count": 110,
   "metadata": {},
   "outputs": [],
   "source": [
    "dados_novos_junto.drop(columns= \"genres\", inplace=True)"
   ]
  },
  {
   "cell_type": "markdown",
   "metadata": {},
   "source": [
    "#### Criação de novas colunas que contém o mês, ano, e dia , cada uma em sua própia coluna no dataframe "
   ]
  },
  {
   "cell_type": "code",
   "execution_count": 111,
   "metadata": {},
   "outputs": [],
   "source": [
    "dados_novos_junto['ano'] , dados_novos_junto['mes'] , dados_novos_junto['dia'] = dados_novos_junto['release_date'].str.split('-',2).str\n",
    "dados_novos_junto['ano'] = pd.to_numeric(dados_novos_junto['ano'])\n",
    "dados_novos_junto['mes'] = pd.to_numeric(dados_novos_junto['mes'])\n",
    "dados_novos_junto['dia']  = pd.to_numeric(dados_novos_junto['dia'] )"
   ]
  },
  {
   "cell_type": "markdown",
   "metadata": {},
   "source": [
    "## Variáveis para a análise"
   ]
  },
  {
   "cell_type": "markdown",
   "metadata": {},
   "source": [
    "**Dicionário de dados:**\n",
    "\n",
    "\n",
    "Variável | Descrição\n",
    ":---:|---:\n",
    "title | Título do filme\n",
    "runtime | Tempo de filme\n",
    "budget | Orçamento\n",
    "revenue | Receita\n",
    "vote_average | Média dos votos\n",
    "vote_count | Número de votos das pessoas\n",
    "popularity | Popularidade\n",
    "c_Action | 0 quando o filme não pertence à esse gênero, e 1 quando pertence\n",
    "c_Adventure | 0 quando o filme não pertence à esse gênero, e 1 quando pertence\n",
    "c_Animation | 0 quando o filme não pertence à esse gênero, e 1 quando pertence\n",
    "c_Comedy | 0 quando o filme não pertence à esse gênero, e 1 quando pertence\n",
    "c_Crime | 0 quando o filme não pertence à esse gênero, e 1 quando pertence\n",
    "c_Documentary | 0 quando o filme não pertence à esse gênero, e 1 quando pertence\n",
    "c_Drama | 0 quando o filme não pertence à esse gênero, e 1 quando pertence\n",
    "c_Family | 0 quando o filme não pertence à esse gênero, e 1 quando pertence\n",
    "c_Fantasy | 0 quando o filme não pertence à esse gênero, e 1 quando pertence\n",
    "c_Foreign | 0 quando o filme não pertence à esse gênero, e 1 quando pertence\n",
    "c_History | 0 quando o filme não pertence à esse gênero, e 1 quando pertence\n",
    "c_Horror | 0 quando o filme não pertence à esse gênero, e 1 quando pertence\n",
    "c_Music | 0 quando o filme não pertence à esse gênero, e 1 quando pertence\n",
    "c_Mystery | 0 quando o filme não pertence à esse gênero, e 1 quando pertence\n",
    "c_Romance | 0 quando o filme não pertence à esse gênero, e 1 quando pertence\n",
    "c_Science Fiction | 0 quando o filme não pertence à esse gênero, e 1 quando pertence\n",
    "c_TV Movie | 0 quando o filme não pertence à esse gênero, e 1 quando pertence\n",
    "c_Thriller | 0 quando o filme não pertence à esse gênero, e 1 quando pertence\n",
    "c_War | 0 quando o filme não pertence à esse gênero, e 1 quando pertence\n",
    "c_Western | 0 quando o filme não pertence à esse gênero, e 1 quando pertence\n",
    "ano | ano em que o filme foi lançado\n",
    "mês | mês em que o filme foi lançado\n",
    "dia | dia em que o filme foi lançado"
   ]
  },
  {
   "cell_type": "markdown",
   "metadata": {},
   "source": [
    "### Verificando e limpando os  valores nulos e inválidos das variáveis em certa coluna"
   ]
  },
  {
   "cell_type": "code",
   "execution_count": 123,
   "metadata": {},
   "outputs": [
    {
     "data": {
      "text/plain": [
       "runtime              0\n",
       "budget               0\n",
       "revenue              0\n",
       "vote_average         0\n",
       "vote_count           0\n",
       "popularity           0\n",
       "release_date         0\n",
       "c_Action             0\n",
       "c_Adventure          0\n",
       "c_Animation          0\n",
       "c_Comedy             0\n",
       "c_Crime              0\n",
       "c_Documentary        0\n",
       "c_Drama              0\n",
       "c_Family             0\n",
       "c_Fantasy            0\n",
       "c_Foreign            0\n",
       "c_History            0\n",
       "c_Horror             0\n",
       "c_Music              0\n",
       "c_Mystery            0\n",
       "c_Romance            0\n",
       "c_Science Fiction    0\n",
       "c_TV Movie           0\n",
       "c_Thriller           0\n",
       "c_War                0\n",
       "c_Western            0\n",
       "ano                  0\n",
       "mes                  0\n",
       "dia                  0\n",
       "dtype: int64"
      ]
     },
     "execution_count": 123,
     "metadata": {},
     "output_type": "execute_result"
    }
   ],
   "source": [
    "np.sum(df.isnull())"
   ]
  },
  {
   "cell_type": "code",
   "execution_count": 124,
   "metadata": {},
   "outputs": [],
   "source": [
    "df = dados_novos_junto\n",
    "\n",
    "df = df.dropna()"
   ]
  },
  {
   "cell_type": "markdown",
   "metadata": {},
   "source": [
    "## Com a ajuda do comando Describe, poderemos analisar fatores importantes do Dataframe"
   ]
  },
  {
   "cell_type": "code",
   "execution_count": 112,
   "metadata": {},
   "outputs": [
    {
     "data": {
      "text/html": [
       "<div>\n",
       "<style scoped>\n",
       "    .dataframe tbody tr th:only-of-type {\n",
       "        vertical-align: middle;\n",
       "    }\n",
       "\n",
       "    .dataframe tbody tr th {\n",
       "        vertical-align: top;\n",
       "    }\n",
       "\n",
       "    .dataframe thead th {\n",
       "        text-align: right;\n",
       "    }\n",
       "</style>\n",
       "<table border=\"1\" class=\"dataframe\">\n",
       "  <thead>\n",
       "    <tr style=\"text-align: right;\">\n",
       "      <th></th>\n",
       "      <th>runtime</th>\n",
       "      <th>budget</th>\n",
       "      <th>revenue</th>\n",
       "      <th>vote_average</th>\n",
       "      <th>vote_count</th>\n",
       "      <th>popularity</th>\n",
       "      <th>c_Action</th>\n",
       "      <th>c_Adventure</th>\n",
       "      <th>c_Animation</th>\n",
       "      <th>c_Comedy</th>\n",
       "      <th>...</th>\n",
       "      <th>c_Mystery</th>\n",
       "      <th>c_Romance</th>\n",
       "      <th>c_Science Fiction</th>\n",
       "      <th>c_TV Movie</th>\n",
       "      <th>c_Thriller</th>\n",
       "      <th>c_War</th>\n",
       "      <th>c_Western</th>\n",
       "      <th>ano</th>\n",
       "      <th>mes</th>\n",
       "      <th>dia</th>\n",
       "    </tr>\n",
       "  </thead>\n",
       "  <tbody>\n",
       "    <tr>\n",
       "      <th>count</th>\n",
       "      <td>3764.000000</td>\n",
       "      <td>3.766000e+03</td>\n",
       "      <td>3.766000e+03</td>\n",
       "      <td>3766.000000</td>\n",
       "      <td>3766.000000</td>\n",
       "      <td>3766.000000</td>\n",
       "      <td>3221.000000</td>\n",
       "      <td>3221.000000</td>\n",
       "      <td>3221.000000</td>\n",
       "      <td>3221.000000</td>\n",
       "      <td>...</td>\n",
       "      <td>3221.000000</td>\n",
       "      <td>3221.000000</td>\n",
       "      <td>3221.000000</td>\n",
       "      <td>3221.000000</td>\n",
       "      <td>3221.000000</td>\n",
       "      <td>3221.000000</td>\n",
       "      <td>3221.000000</td>\n",
       "      <td>3766.000000</td>\n",
       "      <td>3766.000000</td>\n",
       "      <td>3766.000000</td>\n",
       "    </tr>\n",
       "    <tr>\n",
       "      <th>mean</th>\n",
       "      <td>109.324389</td>\n",
       "      <td>3.704284e+07</td>\n",
       "      <td>1.039547e+08</td>\n",
       "      <td>6.226474</td>\n",
       "      <td>856.496814</td>\n",
       "      <td>25.984641</td>\n",
       "      <td>0.282521</td>\n",
       "      <td>0.208010</td>\n",
       "      <td>0.060540</td>\n",
       "      <td>0.350512</td>\n",
       "      <td>...</td>\n",
       "      <td>0.074201</td>\n",
       "      <td>0.174170</td>\n",
       "      <td>0.127600</td>\n",
       "      <td>0.000931</td>\n",
       "      <td>0.289662</td>\n",
       "      <td>0.035082</td>\n",
       "      <td>0.017075</td>\n",
       "      <td>2002.090813</td>\n",
       "      <td>6.935741</td>\n",
       "      <td>15.433617</td>\n",
       "    </tr>\n",
       "    <tr>\n",
       "      <th>std</th>\n",
       "      <td>20.753408</td>\n",
       "      <td>4.264651e+07</td>\n",
       "      <td>1.776399e+08</td>\n",
       "      <td>0.966228</td>\n",
       "      <td>1344.785690</td>\n",
       "      <td>34.438253</td>\n",
       "      <td>0.450295</td>\n",
       "      <td>0.405947</td>\n",
       "      <td>0.238522</td>\n",
       "      <td>0.477204</td>\n",
       "      <td>...</td>\n",
       "      <td>0.262138</td>\n",
       "      <td>0.379314</td>\n",
       "      <td>0.333696</td>\n",
       "      <td>0.030509</td>\n",
       "      <td>0.453676</td>\n",
       "      <td>0.184016</td>\n",
       "      <td>0.129573</td>\n",
       "      <td>12.876561</td>\n",
       "      <td>3.393160</td>\n",
       "      <td>8.520344</td>\n",
       "    </tr>\n",
       "    <tr>\n",
       "      <th>min</th>\n",
       "      <td>0.000000</td>\n",
       "      <td>1.000000e+00</td>\n",
       "      <td>0.000000e+00</td>\n",
       "      <td>0.000000</td>\n",
       "      <td>0.000000</td>\n",
       "      <td>0.001586</td>\n",
       "      <td>0.000000</td>\n",
       "      <td>0.000000</td>\n",
       "      <td>0.000000</td>\n",
       "      <td>0.000000</td>\n",
       "      <td>...</td>\n",
       "      <td>0.000000</td>\n",
       "      <td>0.000000</td>\n",
       "      <td>0.000000</td>\n",
       "      <td>0.000000</td>\n",
       "      <td>0.000000</td>\n",
       "      <td>0.000000</td>\n",
       "      <td>0.000000</td>\n",
       "      <td>1916.000000</td>\n",
       "      <td>1.000000</td>\n",
       "      <td>1.000000</td>\n",
       "    </tr>\n",
       "    <tr>\n",
       "      <th>25%</th>\n",
       "      <td>95.000000</td>\n",
       "      <td>8.000000e+06</td>\n",
       "      <td>6.009736e+06</td>\n",
       "      <td>5.700000</td>\n",
       "      <td>114.000000</td>\n",
       "      <td>7.974990</td>\n",
       "      <td>0.000000</td>\n",
       "      <td>0.000000</td>\n",
       "      <td>0.000000</td>\n",
       "      <td>0.000000</td>\n",
       "      <td>...</td>\n",
       "      <td>0.000000</td>\n",
       "      <td>0.000000</td>\n",
       "      <td>0.000000</td>\n",
       "      <td>0.000000</td>\n",
       "      <td>0.000000</td>\n",
       "      <td>0.000000</td>\n",
       "      <td>0.000000</td>\n",
       "      <td>1999.000000</td>\n",
       "      <td>4.000000</td>\n",
       "      <td>9.000000</td>\n",
       "    </tr>\n",
       "    <tr>\n",
       "      <th>50%</th>\n",
       "      <td>105.500000</td>\n",
       "      <td>2.300000e+07</td>\n",
       "      <td>3.883137e+07</td>\n",
       "      <td>6.300000</td>\n",
       "      <td>365.500000</td>\n",
       "      <td>17.604955</td>\n",
       "      <td>0.000000</td>\n",
       "      <td>0.000000</td>\n",
       "      <td>0.000000</td>\n",
       "      <td>0.000000</td>\n",
       "      <td>...</td>\n",
       "      <td>0.000000</td>\n",
       "      <td>0.000000</td>\n",
       "      <td>0.000000</td>\n",
       "      <td>0.000000</td>\n",
       "      <td>0.000000</td>\n",
       "      <td>0.000000</td>\n",
       "      <td>0.000000</td>\n",
       "      <td>2005.000000</td>\n",
       "      <td>7.000000</td>\n",
       "      <td>15.000000</td>\n",
       "    </tr>\n",
       "    <tr>\n",
       "      <th>75%</th>\n",
       "      <td>120.000000</td>\n",
       "      <td>5.000000e+07</td>\n",
       "      <td>1.220873e+08</td>\n",
       "      <td>6.900000</td>\n",
       "      <td>969.250000</td>\n",
       "      <td>33.925801</td>\n",
       "      <td>1.000000</td>\n",
       "      <td>0.000000</td>\n",
       "      <td>0.000000</td>\n",
       "      <td>1.000000</td>\n",
       "      <td>...</td>\n",
       "      <td>0.000000</td>\n",
       "      <td>0.000000</td>\n",
       "      <td>0.000000</td>\n",
       "      <td>0.000000</td>\n",
       "      <td>1.000000</td>\n",
       "      <td>0.000000</td>\n",
       "      <td>0.000000</td>\n",
       "      <td>2011.000000</td>\n",
       "      <td>10.000000</td>\n",
       "      <td>22.000000</td>\n",
       "    </tr>\n",
       "    <tr>\n",
       "      <th>max</th>\n",
       "      <td>338.000000</td>\n",
       "      <td>3.800000e+08</td>\n",
       "      <td>2.787965e+09</td>\n",
       "      <td>10.000000</td>\n",
       "      <td>13752.000000</td>\n",
       "      <td>875.581305</td>\n",
       "      <td>1.000000</td>\n",
       "      <td>1.000000</td>\n",
       "      <td>1.000000</td>\n",
       "      <td>1.000000</td>\n",
       "      <td>...</td>\n",
       "      <td>1.000000</td>\n",
       "      <td>1.000000</td>\n",
       "      <td>1.000000</td>\n",
       "      <td>1.000000</td>\n",
       "      <td>1.000000</td>\n",
       "      <td>1.000000</td>\n",
       "      <td>1.000000</td>\n",
       "      <td>2016.000000</td>\n",
       "      <td>12.000000</td>\n",
       "      <td>31.000000</td>\n",
       "    </tr>\n",
       "  </tbody>\n",
       "</table>\n",
       "<p>8 rows × 29 columns</p>\n",
       "</div>"
      ],
      "text/plain": [
       "           runtime        budget       revenue  vote_average    vote_count  \\\n",
       "count  3764.000000  3.766000e+03  3.766000e+03   3766.000000   3766.000000   \n",
       "mean    109.324389  3.704284e+07  1.039547e+08      6.226474    856.496814   \n",
       "std      20.753408  4.264651e+07  1.776399e+08      0.966228   1344.785690   \n",
       "min       0.000000  1.000000e+00  0.000000e+00      0.000000      0.000000   \n",
       "25%      95.000000  8.000000e+06  6.009736e+06      5.700000    114.000000   \n",
       "50%     105.500000  2.300000e+07  3.883137e+07      6.300000    365.500000   \n",
       "75%     120.000000  5.000000e+07  1.220873e+08      6.900000    969.250000   \n",
       "max     338.000000  3.800000e+08  2.787965e+09     10.000000  13752.000000   \n",
       "\n",
       "        popularity     c_Action  c_Adventure  c_Animation     c_Comedy  \\\n",
       "count  3766.000000  3221.000000  3221.000000  3221.000000  3221.000000   \n",
       "mean     25.984641     0.282521     0.208010     0.060540     0.350512   \n",
       "std      34.438253     0.450295     0.405947     0.238522     0.477204   \n",
       "min       0.001586     0.000000     0.000000     0.000000     0.000000   \n",
       "25%       7.974990     0.000000     0.000000     0.000000     0.000000   \n",
       "50%      17.604955     0.000000     0.000000     0.000000     0.000000   \n",
       "75%      33.925801     1.000000     0.000000     0.000000     1.000000   \n",
       "max     875.581305     1.000000     1.000000     1.000000     1.000000   \n",
       "\n",
       "          ...         c_Mystery    c_Romance  c_Science Fiction   c_TV Movie  \\\n",
       "count     ...       3221.000000  3221.000000        3221.000000  3221.000000   \n",
       "mean      ...          0.074201     0.174170           0.127600     0.000931   \n",
       "std       ...          0.262138     0.379314           0.333696     0.030509   \n",
       "min       ...          0.000000     0.000000           0.000000     0.000000   \n",
       "25%       ...          0.000000     0.000000           0.000000     0.000000   \n",
       "50%       ...          0.000000     0.000000           0.000000     0.000000   \n",
       "75%       ...          0.000000     0.000000           0.000000     0.000000   \n",
       "max       ...          1.000000     1.000000           1.000000     1.000000   \n",
       "\n",
       "        c_Thriller        c_War    c_Western          ano          mes  \\\n",
       "count  3221.000000  3221.000000  3221.000000  3766.000000  3766.000000   \n",
       "mean      0.289662     0.035082     0.017075  2002.090813     6.935741   \n",
       "std       0.453676     0.184016     0.129573    12.876561     3.393160   \n",
       "min       0.000000     0.000000     0.000000  1916.000000     1.000000   \n",
       "25%       0.000000     0.000000     0.000000  1999.000000     4.000000   \n",
       "50%       0.000000     0.000000     0.000000  2005.000000     7.000000   \n",
       "75%       1.000000     0.000000     0.000000  2011.000000    10.000000   \n",
       "max       1.000000     1.000000     1.000000  2016.000000    12.000000   \n",
       "\n",
       "               dia  \n",
       "count  3766.000000  \n",
       "mean     15.433617  \n",
       "std       8.520344  \n",
       "min       1.000000  \n",
       "25%       9.000000  \n",
       "50%      15.000000  \n",
       "75%      22.000000  \n",
       "max      31.000000  \n",
       "\n",
       "[8 rows x 29 columns]"
      ]
     },
     "execution_count": 112,
     "metadata": {},
     "output_type": "execute_result"
    }
   ],
   "source": [
    "dados_novos_junto.describe()"
   ]
  },
  {
   "cell_type": "markdown",
   "metadata": {},
   "source": [
    "## Uso da função Regress"
   ]
  },
  {
   "cell_type": "code",
   "execution_count": 117,
   "metadata": {},
   "outputs": [
    {
     "data": {
      "text/html": [
       "<table class=\"simpletable\">\n",
       "<caption>OLS Regression Results</caption>\n",
       "<tr>\n",
       "  <th>Dep. Variable:</th>      <td>vote_average</td>   <th>  R-squared:         </th> <td>   0.378</td> \n",
       "</tr>\n",
       "<tr>\n",
       "  <th>Model:</th>                   <td>OLS</td>       <th>  Adj. R-squared:    </th> <td>   0.374</td> \n",
       "</tr>\n",
       "<tr>\n",
       "  <th>Method:</th>             <td>Least Squares</td>  <th>  F-statistic:       </th> <td>   88.28</td> \n",
       "</tr>\n",
       "<tr>\n",
       "  <th>Date:</th>             <td>Mon, 12 Nov 2018</td> <th>  Prob (F-statistic):</th> <td>5.52e-309</td>\n",
       "</tr>\n",
       "<tr>\n",
       "  <th>Time:</th>                 <td>16:20:53</td>     <th>  Log-Likelihood:    </th> <td> -3351.0</td> \n",
       "</tr>\n",
       "<tr>\n",
       "  <th>No. Observations:</th>      <td>  3220</td>      <th>  AIC:               </th> <td>   6748.</td> \n",
       "</tr>\n",
       "<tr>\n",
       "  <th>Df Residuals:</th>          <td>  3197</td>      <th>  BIC:               </th> <td>   6888.</td> \n",
       "</tr>\n",
       "<tr>\n",
       "  <th>Df Model:</th>              <td>    22</td>      <th>                     </th>     <td> </td>    \n",
       "</tr>\n",
       "<tr>\n",
       "  <th>Covariance Type:</th>      <td>nonrobust</td>    <th>                     </th>     <td> </td>    \n",
       "</tr>\n",
       "</table>\n",
       "<table class=\"simpletable\">\n",
       "<tr>\n",
       "          <td></td>             <th>coef</th>     <th>std err</th>      <th>t</th>      <th>P>|t|</th>  <th>[0.025</th>    <th>0.975]</th>  \n",
       "</tr>\n",
       "<tr>\n",
       "  <th>const</th>             <td>   20.6481</td> <td>    2.596</td> <td>    7.955</td> <td> 0.000</td> <td>   15.559</td> <td>   25.737</td>\n",
       "</tr>\n",
       "<tr>\n",
       "  <th>runtime</th>           <td>    0.0144</td> <td>    0.001</td> <td>   22.121</td> <td> 0.000</td> <td>    0.013</td> <td>    0.016</td>\n",
       "</tr>\n",
       "<tr>\n",
       "  <th>budget</th>            <td>-6.174e-09</td> <td> 4.31e-10</td> <td>  -14.337</td> <td> 0.000</td> <td>-7.02e-09</td> <td>-5.33e-09</td>\n",
       "</tr>\n",
       "<tr>\n",
       "  <th>revenue</th>           <td>-2.735e-11</td> <td> 1.19e-10</td> <td>   -0.229</td> <td> 0.819</td> <td>-2.61e-10</td> <td> 2.07e-10</td>\n",
       "</tr>\n",
       "<tr>\n",
       "  <th>vote_count</th>        <td>    0.0003</td> <td> 1.62e-05</td> <td>   17.864</td> <td> 0.000</td> <td>    0.000</td> <td>    0.000</td>\n",
       "</tr>\n",
       "<tr>\n",
       "  <th>popularity</th>        <td>    0.0012</td> <td>    0.001</td> <td>    2.383</td> <td> 0.017</td> <td>    0.000</td> <td>    0.002</td>\n",
       "</tr>\n",
       "<tr>\n",
       "  <th>c_Action</th>          <td>   -0.0122</td> <td>    0.033</td> <td>   -0.373</td> <td> 0.709</td> <td>   -0.076</td> <td>    0.052</td>\n",
       "</tr>\n",
       "<tr>\n",
       "  <th>c_Adventure</th>       <td>   -0.0947</td> <td>    0.035</td> <td>   -2.700</td> <td> 0.007</td> <td>   -0.164</td> <td>   -0.026</td>\n",
       "</tr>\n",
       "<tr>\n",
       "  <th>c_Animation</th>       <td>    0.2341</td> <td>    0.055</td> <td>    4.263</td> <td> 0.000</td> <td>    0.126</td> <td>    0.342</td>\n",
       "</tr>\n",
       "<tr>\n",
       "  <th>c_Comedy</th>          <td>   -0.0103</td> <td>    0.029</td> <td>   -0.358</td> <td> 0.720</td> <td>   -0.067</td> <td>    0.046</td>\n",
       "</tr>\n",
       "<tr>\n",
       "  <th>c_History</th>         <td>   -0.1066</td> <td>    0.064</td> <td>   -1.662</td> <td> 0.097</td> <td>   -0.232</td> <td>    0.019</td>\n",
       "</tr>\n",
       "<tr>\n",
       "  <th>c_Horror</th>          <td>    0.0419</td> <td>    0.042</td> <td>    0.993</td> <td> 0.321</td> <td>   -0.041</td> <td>    0.125</td>\n",
       "</tr>\n",
       "<tr>\n",
       "  <th>c_Music</th>           <td>   -0.0685</td> <td>    0.067</td> <td>   -1.017</td> <td> 0.309</td> <td>   -0.201</td> <td>    0.064</td>\n",
       "</tr>\n",
       "<tr>\n",
       "  <th>c_Mystery</th>         <td>   -0.0489</td> <td>    0.049</td> <td>   -0.999</td> <td> 0.318</td> <td>   -0.145</td> <td>    0.047</td>\n",
       "</tr>\n",
       "<tr>\n",
       "  <th>c_Romance</th>         <td>   -0.0130</td> <td>    0.034</td> <td>   -0.380</td> <td> 0.704</td> <td>   -0.080</td> <td>    0.054</td>\n",
       "</tr>\n",
       "<tr>\n",
       "  <th>c_Science Fiction</th> <td>    0.0111</td> <td>    0.039</td> <td>    0.286</td> <td> 0.775</td> <td>   -0.065</td> <td>    0.087</td>\n",
       "</tr>\n",
       "<tr>\n",
       "  <th>c_TV Movie</th>        <td>    0.3847</td> <td>    0.398</td> <td>    0.966</td> <td> 0.334</td> <td>   -0.396</td> <td>    1.165</td>\n",
       "</tr>\n",
       "<tr>\n",
       "  <th>c_Thriller</th>        <td>   -0.0267</td> <td>    0.032</td> <td>   -0.833</td> <td> 0.405</td> <td>   -0.090</td> <td>    0.036</td>\n",
       "</tr>\n",
       "<tr>\n",
       "  <th>c_War</th>             <td>   -0.0706</td> <td>    0.071</td> <td>   -0.993</td> <td> 0.321</td> <td>   -0.210</td> <td>    0.069</td>\n",
       "</tr>\n",
       "<tr>\n",
       "  <th>c_Western</th>         <td>    0.0210</td> <td>    0.095</td> <td>    0.220</td> <td> 0.826</td> <td>   -0.166</td> <td>    0.208</td>\n",
       "</tr>\n",
       "<tr>\n",
       "  <th>mes</th>               <td>    0.0212</td> <td>    0.004</td> <td>    5.868</td> <td> 0.000</td> <td>    0.014</td> <td>    0.028</td>\n",
       "</tr>\n",
       "<tr>\n",
       "  <th>ano</th>               <td>   -0.0081</td> <td>    0.001</td> <td>   -6.262</td> <td> 0.000</td> <td>   -0.011</td> <td>   -0.006</td>\n",
       "</tr>\n",
       "<tr>\n",
       "  <th>dia</th>               <td>   -0.0011</td> <td>    0.001</td> <td>   -0.732</td> <td> 0.464</td> <td>   -0.004</td> <td>    0.002</td>\n",
       "</tr>\n",
       "</table>\n",
       "<table class=\"simpletable\">\n",
       "<tr>\n",
       "  <th>Omnibus:</th>       <td>275.665</td> <th>  Durbin-Watson:     </th> <td>   2.000</td> \n",
       "</tr>\n",
       "<tr>\n",
       "  <th>Prob(Omnibus):</th> <td> 0.000</td>  <th>  Jarque-Bera (JB):  </th> <td> 461.872</td> \n",
       "</tr>\n",
       "<tr>\n",
       "  <th>Skew:</th>          <td>-0.624</td>  <th>  Prob(JB):          </th> <td>5.08e-101</td>\n",
       "</tr>\n",
       "<tr>\n",
       "  <th>Kurtosis:</th>      <td> 4.374</td>  <th>  Cond. No.          </th> <td>4.87e+10</td> \n",
       "</tr>\n",
       "</table>"
      ],
      "text/plain": [
       "<class 'statsmodels.iolib.summary.Summary'>\n",
       "\"\"\"\n",
       "                            OLS Regression Results                            \n",
       "==============================================================================\n",
       "Dep. Variable:           vote_average   R-squared:                       0.378\n",
       "Model:                            OLS   Adj. R-squared:                  0.374\n",
       "Method:                 Least Squares   F-statistic:                     88.28\n",
       "Date:                Mon, 12 Nov 2018   Prob (F-statistic):          5.52e-309\n",
       "Time:                        16:20:53   Log-Likelihood:                -3351.0\n",
       "No. Observations:                3220   AIC:                             6748.\n",
       "Df Residuals:                    3197   BIC:                             6888.\n",
       "Df Model:                          22                                         \n",
       "Covariance Type:            nonrobust                                         \n",
       "=====================================================================================\n",
       "                        coef    std err          t      P>|t|      [0.025      0.975]\n",
       "-------------------------------------------------------------------------------------\n",
       "const                20.6481      2.596      7.955      0.000      15.559      25.737\n",
       "runtime               0.0144      0.001     22.121      0.000       0.013       0.016\n",
       "budget            -6.174e-09   4.31e-10    -14.337      0.000   -7.02e-09   -5.33e-09\n",
       "revenue           -2.735e-11   1.19e-10     -0.229      0.819   -2.61e-10    2.07e-10\n",
       "vote_count            0.0003   1.62e-05     17.864      0.000       0.000       0.000\n",
       "popularity            0.0012      0.001      2.383      0.017       0.000       0.002\n",
       "c_Action             -0.0122      0.033     -0.373      0.709      -0.076       0.052\n",
       "c_Adventure          -0.0947      0.035     -2.700      0.007      -0.164      -0.026\n",
       "c_Animation           0.2341      0.055      4.263      0.000       0.126       0.342\n",
       "c_Comedy             -0.0103      0.029     -0.358      0.720      -0.067       0.046\n",
       "c_History            -0.1066      0.064     -1.662      0.097      -0.232       0.019\n",
       "c_Horror              0.0419      0.042      0.993      0.321      -0.041       0.125\n",
       "c_Music              -0.0685      0.067     -1.017      0.309      -0.201       0.064\n",
       "c_Mystery            -0.0489      0.049     -0.999      0.318      -0.145       0.047\n",
       "c_Romance            -0.0130      0.034     -0.380      0.704      -0.080       0.054\n",
       "c_Science Fiction     0.0111      0.039      0.286      0.775      -0.065       0.087\n",
       "c_TV Movie            0.3847      0.398      0.966      0.334      -0.396       1.165\n",
       "c_Thriller           -0.0267      0.032     -0.833      0.405      -0.090       0.036\n",
       "c_War                -0.0706      0.071     -0.993      0.321      -0.210       0.069\n",
       "c_Western             0.0210      0.095      0.220      0.826      -0.166       0.208\n",
       "mes                   0.0212      0.004      5.868      0.000       0.014       0.028\n",
       "ano                  -0.0081      0.001     -6.262      0.000      -0.011      -0.006\n",
       "dia                  -0.0011      0.001     -0.732      0.464      -0.004       0.002\n",
       "==============================================================================\n",
       "Omnibus:                      275.665   Durbin-Watson:                   2.000\n",
       "Prob(Omnibus):                  0.000   Jarque-Bera (JB):              461.872\n",
       "Skew:                          -0.624   Prob(JB):                    5.08e-101\n",
       "Kurtosis:                       4.374   Cond. No.                     4.87e+10\n",
       "==============================================================================\n",
       "\n",
       "Warnings:\n",
       "[1] Standard Errors assume that the covariance matrix of the errors is correctly specified.\n",
       "[2] The condition number is large, 4.87e+10. This might indicate that there are\n",
       "strong multicollinearity or other numerical problems.\n",
       "\"\"\""
      ]
     },
     "execution_count": 117,
     "metadata": {},
     "output_type": "execute_result"
    }
   ],
   "source": [
    "results = regress(X,Y)\n",
    "results.summary()"
   ]
  },
  {
   "cell_type": "markdown",
   "metadata": {},
   "source": [
    "## Criação do novo dataframe com variáveis releventes"
   ]
  },
  {
   "cell_type": "markdown",
   "metadata": {},
   "source": [
    "#### Adotamos um ALFA de 5%, então só vamos usar na análise as variáveis  que possuem um P>T maior que o ALFA "
   ]
  },
  {
   "cell_type": "markdown",
   "metadata": {},
   "source": [
    "Obtendo as variáveis resposta e preditora:\n",
    "\n",
    "-Variável resposta (Y) , ou seja , as notas do site IMDB\n",
    "\n",
    "-Variável preditora (X) , ou seja , todas as colunas que serão usadas para prever as notas dos filmes"
   ]
  },
  {
   "cell_type": "code",
   "execution_count": 115,
   "metadata": {},
   "outputs": [],
   "source": [
    "Y = df[ \"vote_average\"]"
   ]
  },
  {
   "cell_type": "code",
   "execution_count": 118,
   "metadata": {},
   "outputs": [],
   "source": [
    "X = df[[\"runtime\",\"budget\",\"vote_count\", \"popularity\",'mes','ano']]"
   ]
  },
  {
   "cell_type": "markdown",
   "metadata": {},
   "source": [
    "#### Separando o dataframe em teste e treinamento"
   ]
  },
  {
   "cell_type": "code",
   "execution_count": 125,
   "metadata": {},
   "outputs": [],
   "source": [
    "from sklearn.model_selection import train_test_split\n",
    "X_train, X_test, y_train, y_test = train_test_split(X, Y, test_size=0.33, random_state=RANDOM_SEED)"
   ]
  },
  {
   "cell_type": "markdown",
   "metadata": {},
   "source": [
    " #### Aplicando o modelo de regressão linear"
   ]
  },
  {
   "cell_type": "code",
   "execution_count": 126,
   "metadata": {},
   "outputs": [
    {
     "name": "stdout",
     "output_type": "stream",
     "text": [
      "a margem de acerto do modelo de regressão linear é de 0.3879962273565626%\n"
     ]
    }
   ],
   "source": [
    "from sklearn.linear_model import LinearRegression\n",
    "from sklearn.metrics import mean_squared_error\n",
    "\n",
    "model = LinearRegression()       #cria\n",
    "model.fit(X_train, y_train)        #treina \n",
    "y_pred = model.predict(X_test)      #testa \n",
    "\n",
    "resultrl = 1 - mean_squared_error(y_test, y_pred) / np.var(y_test)\n",
    "print('a margem de acerto do modelo de regressão linear é de {0}%'.format(resultrl))"
   ]
  },
  {
   "cell_type": "markdown",
   "metadata": {},
   "source": [
    "#### Aplicando o modelo RandomForest"
   ]
  },
  {
   "cell_type": "code",
   "execution_count": 127,
   "metadata": {},
   "outputs": [
    {
     "name": "stdout",
     "output_type": "stream",
     "text": [
      "a margem de acerto do modelo RandomForest é de 0.45872795029420144%\n"
     ]
    },
    {
     "name": "stderr",
     "output_type": "stream",
     "text": [
      "C:\\Users\\andre\\Anaconda3\\lib\\site-packages\\sklearn\\ensemble\\forest.py:248: FutureWarning: The default value of n_estimators will change from 10 in version 0.20 to 100 in 0.22.\n",
      "  \"10 in version 0.20 to 100 in 0.22.\", FutureWarning)\n"
     ]
    }
   ],
   "source": [
    "from sklearn.ensemble import RandomForestRegressor\n",
    "from sklearn.metrics import mean_squared_error\n",
    "\n",
    "model = RandomForestRegressor()       #cria\n",
    "model.fit(X_train, y_train)        #treina \n",
    "y_pred = model.predict(X_test)      #testa \n",
    "\n",
    "resultrf = 1 - mean_squared_error(y_test, y_pred) / np.var(y_test)\n",
    "print('a margem de acerto do modelo RandomForest é de {0}%'.format(resultrf))"
   ]
  },
  {
   "cell_type": "code",
   "execution_count": null,
   "metadata": {},
   "outputs": [],
   "source": []
  },
  {
   "cell_type": "code",
   "execution_count": null,
   "metadata": {},
   "outputs": [],
   "source": []
  },
  {
   "cell_type": "code",
   "execution_count": null,
   "metadata": {},
   "outputs": [],
   "source": []
  }
 ],
 "metadata": {
  "kernelspec": {
   "display_name": "Python 3",
   "language": "python",
   "name": "python3"
  },
  "language_info": {
   "codemirror_mode": {
    "name": "ipython",
    "version": 3
   },
   "file_extension": ".py",
   "mimetype": "text/x-python",
   "name": "python",
   "nbconvert_exporter": "python",
   "pygments_lexer": "ipython3",
   "version": "3.6.4"
  }
 },
 "nbformat": 4,
 "nbformat_minor": 2
}
