{
 "cells": [
  {
   "cell_type": "markdown",
   "metadata": {},
   "source": [
    " ### -REGRESSÃO LINEAR MÚLTIPLA"
   ]
  },
  {
   "cell_type": "markdown",
   "metadata": {},
   "source": [
    "É mútipla pois nela são tratadas duas ou mais variáveis explicativas"
   ]
  },
  {
   "cell_type": "code",
   "execution_count": 53,
   "metadata": {},
   "outputs": [],
   "source": [
    "%matplotlib inline\n",
    "%matplotlib notebook\n",
    "%reset -f\n",
    "import numpy as np\n",
    "import pandas as pd\n",
    "import matplotlib\n",
    "import matplotlib.pyplot as plt\n",
    "from scipy.stats import norm, probplot\n",
    "import statsmodels.api as sm\n",
    "from mpl_toolkits.mplot3d import Axes3D\n",
    "\n",
    "RANDOM_SEED = 42\n",
    "\n",
    "np.random.seed(RANDOM_SEED)"
   ]
  },
  {
   "cell_type": "markdown",
   "metadata": {},
   "source": [
    "### Ler o arquivo"
   ]
  },
  {
   "cell_type": "code",
   "execution_count": 54,
   "metadata": {},
   "outputs": [],
   "source": [
    "df = pd.read_csv(\"tmdb_5000_movies.csv\")\n",
    "df.drop(df[df['budget']==0].index, inplace=True)"
   ]
  },
  {
   "cell_type": "markdown",
   "metadata": {},
   "source": [
    "### limpeza do dataframe "
   ]
  },
  {
   "cell_type": "code",
   "execution_count": 55,
   "metadata": {},
   "outputs": [],
   "source": [
    "df_novo = df.filter(['budget', 'genres', 'popularity', 'production_companies', 'production_countries',\n",
    "                     'release_date', 'revenue', 'runtime', 'vote_average', 'vote_count'], axis=1)"
   ]
  },
  {
   "cell_type": "markdown",
   "metadata": {},
   "source": [
    "### Função utilitária para fazer a regressão com constante adicionada"
   ]
  },
  {
   "cell_type": "code",
   "execution_count": 56,
   "metadata": {},
   "outputs": [],
   "source": [
    "def regress(X,Y):\n",
    "    X_cp = sm.add_constant(X)\n",
    "    model = sm.OLS(Y,X_cp)\n",
    "    results = model.fit()\n",
    "    return results"
   ]
  },
  {
   "cell_type": "markdown",
   "metadata": {},
   "source": [
    "Criação de colunas com o nome dos generos, sendo 1 para quando o filme é daquela categoria e 0 para quando não é , isso foi feito para tirar a coluna genre"
   ]
  },
  {
   "cell_type": "code",
   "execution_count": 57,
   "metadata": {},
   "outputs": [],
   "source": [
    "import json\n",
    "\n",
    "genres = set()\n",
    "for x in df_novo['genres']:\n",
    "    for g in json.loads(x):\n",
    "        genres.add(g[\"name\"])\n"
   ]
  },
  {
   "cell_type": "markdown",
   "metadata": {},
   "source": [
    "criacao do novo dataframe incluindo as novas colunas de genero"
   ]
  },
  {
   "cell_type": "code",
   "execution_count": 58,
   "metadata": {},
   "outputs": [],
   "source": [
    "def extrai_generos(item):\n",
    "    generos = {'c_' + x: 0 for x in ['Action', 'Adventure', 'Animation', 'Comedy', 'Crime', \n",
    "                              'Documentary', 'Drama', 'Family', 'Fantasy', 'Foreign', \n",
    "                              'History', 'Horror', 'Music', 'Mystery', 'Romance', \n",
    "                              'Science Fiction', 'TV Movie', 'Thriller', 'War', 'Western']}\n",
    "    for g in json.loads(item):\n",
    "        generos['c_' + g['name']] += 1\n",
    "    return generos\n",
    "\n",
    "df_teste = pd.DataFrame(list(df_novo['genres'].apply(extrai_generos).values))\n",
    "df_junto = df_novo.join(df_teste)"
   ]
  },
  {
   "cell_type": "code",
   "execution_count": 59,
   "metadata": {
    "scrolled": true
   },
   "outputs": [
    {
     "data": {
      "text/plain": [
       "0            537\n",
       "8000000        6\n",
       "12000000       5\n",
       "100000000      5\n",
       "6000000        5\n",
       "7000000        5\n",
       "5000000        4\n",
       "10000000       4\n",
       "11000000       4\n",
       "14000000       4\n",
       "17000000       3\n",
       "4000000        3\n",
       "13000000       3\n",
       "7800000        3\n",
       "25000000       3\n",
       "30000000       3\n",
       "60000000       3\n",
       "14400000       3\n",
       "32000000       3\n",
       "36000000       2\n",
       "2200000        2\n",
       "28200000       2\n",
       "110000000      2\n",
       "102000000      2\n",
       "10400000       2\n",
       "70000000       2\n",
       "8500000        2\n",
       "11             2\n",
       "94000000       2\n",
       "15000000       2\n",
       "            ... \n",
       "104303851      1\n",
       "2401510        1\n",
       "691210692      1\n",
       "83719388       1\n",
       "193355800      1\n",
       "123729176      1\n",
       "150680864      1\n",
       "32222567       1\n",
       "159616327      1\n",
       "28575078       1\n",
       "60700000       1\n",
       "113020255      1\n",
       "7103838        1\n",
       "98159963       1\n",
       "195268056      1\n",
       "190213455      1\n",
       "179379533      1\n",
       "52034889       1\n",
       "99067206       1\n",
       "149044513      1\n",
       "150406466      1\n",
       "128769345      1\n",
       "6600000        1\n",
       "5363000        1\n",
       "24261569       1\n",
       "84460846       1\n",
       "156505388      1\n",
       "146292009      1\n",
       "38413606       1\n",
       "33754967       1\n",
       "Name: revenue, Length: 3155, dtype: int64"
      ]
     },
     "execution_count": 59,
     "metadata": {},
     "output_type": "execute_result"
    }
   ],
   "source": [
    "df_junto['revenue'].value_counts()"
   ]
  },
  {
   "cell_type": "markdown",
   "metadata": {},
   "source": [
    "adição das novas colunas com data no dataframe"
   ]
  },
  {
   "cell_type": "code",
   "execution_count": 60,
   "metadata": {},
   "outputs": [],
   "source": [
    "df_junto['ano'] , df_junto['mes'] , df_junto['dia'] = df_junto['release_date'].str.split('-',2).str\n",
    "df_junto['ano'] = pd.to_numeric(df_junto['ano'])\n",
    "df_junto['mes'] = pd.to_numeric(df_junto['mes'])\n",
    "df_junto['dia']  = pd.to_numeric(df_junto['dia'] )"
   ]
  },
  {
   "cell_type": "markdown",
   "metadata": {},
   "source": [
    "Obtendo as variáveis resposta e preditora:\n",
    "\n",
    "\n",
    "-Variável resposta , ou seja , as notas do site IMDB\n",
    "\n",
    "\n",
    "-Variável preditora , ou seja , todas as colunas que serão usadas para prever as notas dos filmes"
   ]
  },
  {
   "cell_type": "code",
   "execution_count": 61,
   "metadata": {},
   "outputs": [],
   "source": [
    "df_sem_nan = df_junto.dropna()"
   ]
  },
  {
   "cell_type": "code",
   "execution_count": 62,
   "metadata": {},
   "outputs": [],
   "source": [
    "Y = df_sem_nan['vote_average']"
   ]
  },
  {
   "cell_type": "code",
   "execution_count": 63,
   "metadata": {},
   "outputs": [],
   "source": [
    "X = df_sem_nan[['budget', 'popularity', 'runtime', 'vote_count','ano','mes']]"
   ]
  },
  {
   "cell_type": "code",
   "execution_count": 64,
   "metadata": {},
   "outputs": [
    {
     "data": {
      "text/html": [
       "<table class=\"simpletable\">\n",
       "<caption>OLS Regression Results</caption>\n",
       "<tr>\n",
       "  <th>Dep. Variable:</th>      <td>vote_average</td>   <th>  R-squared:         </th> <td>   0.370</td> \n",
       "</tr>\n",
       "<tr>\n",
       "  <th>Model:</th>                   <td>OLS</td>       <th>  Adj. R-squared:    </th> <td>   0.369</td> \n",
       "</tr>\n",
       "<tr>\n",
       "  <th>Method:</th>             <td>Least Squares</td>  <th>  F-statistic:       </th> <td>   315.1</td> \n",
       "</tr>\n",
       "<tr>\n",
       "  <th>Date:</th>             <td>Thu, 08 Nov 2018</td> <th>  Prob (F-statistic):</th> <td>2.55e-318</td>\n",
       "</tr>\n",
       "<tr>\n",
       "  <th>Time:</th>                 <td>15:49:36</td>     <th>  Log-Likelihood:    </th> <td> -3370.2</td> \n",
       "</tr>\n",
       "<tr>\n",
       "  <th>No. Observations:</th>      <td>  3220</td>      <th>  AIC:               </th> <td>   6754.</td> \n",
       "</tr>\n",
       "<tr>\n",
       "  <th>Df Residuals:</th>          <td>  3213</td>      <th>  BIC:               </th> <td>   6797.</td> \n",
       "</tr>\n",
       "<tr>\n",
       "  <th>Df Model:</th>              <td>     6</td>      <th>                     </th>     <td> </td>    \n",
       "</tr>\n",
       "<tr>\n",
       "  <th>Covariance Type:</th>      <td>nonrobust</td>    <th>                     </th>     <td> </td>    \n",
       "</tr>\n",
       "</table>\n",
       "<table class=\"simpletable\">\n",
       "<tr>\n",
       "       <td></td>         <th>coef</th>     <th>std err</th>      <th>t</th>      <th>P>|t|</th>  <th>[0.025</th>    <th>0.975]</th>  \n",
       "</tr>\n",
       "<tr>\n",
       "  <th>const</th>      <td>   20.5914</td> <td>    2.580</td> <td>    7.981</td> <td> 0.000</td> <td>   15.533</td> <td>   25.650</td>\n",
       "</tr>\n",
       "<tr>\n",
       "  <th>budget</th>     <td>-6.295e-09</td> <td> 3.41e-10</td> <td>  -18.478</td> <td> 0.000</td> <td>-6.96e-09</td> <td>-5.63e-09</td>\n",
       "</tr>\n",
       "<tr>\n",
       "  <th>popularity</th> <td>    0.0012</td> <td>    0.001</td> <td>    2.304</td> <td> 0.021</td> <td>    0.000</td> <td>    0.002</td>\n",
       "</tr>\n",
       "<tr>\n",
       "  <th>runtime</th>    <td>    0.0141</td> <td>    0.001</td> <td>   21.765</td> <td> 0.000</td> <td>    0.013</td> <td>    0.015</td>\n",
       "</tr>\n",
       "<tr>\n",
       "  <th>vote_count</th> <td>    0.0003</td> <td> 1.41e-05</td> <td>   20.376</td> <td> 0.000</td> <td>    0.000</td> <td>    0.000</td>\n",
       "</tr>\n",
       "<tr>\n",
       "  <th>ano</th>        <td>   -0.0080</td> <td>    0.001</td> <td>   -6.284</td> <td> 0.000</td> <td>   -0.011</td> <td>   -0.006</td>\n",
       "</tr>\n",
       "<tr>\n",
       "  <th>mes</th>        <td>    0.0216</td> <td>    0.004</td> <td>    5.963</td> <td> 0.000</td> <td>    0.014</td> <td>    0.029</td>\n",
       "</tr>\n",
       "</table>\n",
       "<table class=\"simpletable\">\n",
       "<tr>\n",
       "  <th>Omnibus:</th>       <td>276.872</td> <th>  Durbin-Watson:     </th> <td>   1.998</td> \n",
       "</tr>\n",
       "<tr>\n",
       "  <th>Prob(Omnibus):</th> <td> 0.000</td>  <th>  Jarque-Bera (JB):  </th> <td> 464.310</td> \n",
       "</tr>\n",
       "<tr>\n",
       "  <th>Skew:</th>          <td>-0.625</td>  <th>  Prob(JB):          </th> <td>1.50e-101</td>\n",
       "</tr>\n",
       "<tr>\n",
       "  <th>Kurtosis:</th>      <td> 4.377</td>  <th>  Cond. No.          </th> <td>1.30e+10</td> \n",
       "</tr>\n",
       "</table>"
      ],
      "text/plain": [
       "<class 'statsmodels.iolib.summary.Summary'>\n",
       "\"\"\"\n",
       "                            OLS Regression Results                            \n",
       "==============================================================================\n",
       "Dep. Variable:           vote_average   R-squared:                       0.370\n",
       "Model:                            OLS   Adj. R-squared:                  0.369\n",
       "Method:                 Least Squares   F-statistic:                     315.1\n",
       "Date:                Thu, 08 Nov 2018   Prob (F-statistic):          2.55e-318\n",
       "Time:                        15:49:36   Log-Likelihood:                -3370.2\n",
       "No. Observations:                3220   AIC:                             6754.\n",
       "Df Residuals:                    3213   BIC:                             6797.\n",
       "Df Model:                           6                                         \n",
       "Covariance Type:            nonrobust                                         \n",
       "==============================================================================\n",
       "                 coef    std err          t      P>|t|      [0.025      0.975]\n",
       "------------------------------------------------------------------------------\n",
       "const         20.5914      2.580      7.981      0.000      15.533      25.650\n",
       "budget     -6.295e-09   3.41e-10    -18.478      0.000   -6.96e-09   -5.63e-09\n",
       "popularity     0.0012      0.001      2.304      0.021       0.000       0.002\n",
       "runtime        0.0141      0.001     21.765      0.000       0.013       0.015\n",
       "vote_count     0.0003   1.41e-05     20.376      0.000       0.000       0.000\n",
       "ano           -0.0080      0.001     -6.284      0.000      -0.011      -0.006\n",
       "mes            0.0216      0.004      5.963      0.000       0.014       0.029\n",
       "==============================================================================\n",
       "Omnibus:                      276.872   Durbin-Watson:                   1.998\n",
       "Prob(Omnibus):                  0.000   Jarque-Bera (JB):              464.310\n",
       "Skew:                          -0.625   Prob(JB):                    1.50e-101\n",
       "Kurtosis:                       4.377   Cond. No.                     1.30e+10\n",
       "==============================================================================\n",
       "\n",
       "Warnings:\n",
       "[1] Standard Errors assume that the covariance matrix of the errors is correctly specified.\n",
       "[2] The condition number is large, 1.3e+10. This might indicate that there are\n",
       "strong multicollinearity or other numerical problems.\n",
       "\"\"\""
      ]
     },
     "execution_count": 64,
     "metadata": {},
     "output_type": "execute_result"
    }
   ],
   "source": [
    "results = regress(X,Y)\n",
    "results.summary()"
   ]
  },
  {
   "cell_type": "markdown",
   "metadata": {},
   "source": [
    "Separando o dataframe em teste e treinamento"
   ]
  },
  {
   "cell_type": "code",
   "execution_count": 65,
   "metadata": {},
   "outputs": [],
   "source": [
    "from sklearn.model_selection import train_test_split\n",
    "X_train, X_test, y_train, y_test = train_test_split(X, Y, test_size=0.33, random_state=RANDOM_SEED)"
   ]
  },
  {
   "cell_type": "markdown",
   "metadata": {},
   "source": [
    "Treinando, criando , testando e calculando o modelo de regressão linear"
   ]
  },
  {
   "cell_type": "code",
   "execution_count": 66,
   "metadata": {},
   "outputs": [
    {
     "data": {
      "text/plain": [
       "0.3879962273565626"
      ]
     },
     "execution_count": 66,
     "metadata": {},
     "output_type": "execute_result"
    }
   ],
   "source": [
    "from sklearn.linear_model import LinearRegression\n",
    "from sklearn.metrics import mean_squared_error\n",
    "\n",
    "model = LinearRegression()       #cria\n",
    "model.fit(X_train, y_train)        #treina \n",
    "y_pred = model.predict(X_test)      #testa \n",
    "\n",
    "1 - mean_squared_error(y_test, y_pred) / np.var(y_test)"
   ]
  },
  {
   "cell_type": "markdown",
   "metadata": {},
   "source": [
    "Aplicando o Random Forest Regressor"
   ]
  },
  {
   "cell_type": "code",
   "execution_count": 68,
   "metadata": {},
   "outputs": [
    {
     "name": "stderr",
     "output_type": "stream",
     "text": [
      "C:\\Users\\andre\\Anaconda3\\lib\\site-packages\\sklearn\\ensemble\\forest.py:248: FutureWarning: The default value of n_estimators will change from 10 in version 0.20 to 100 in 0.22.\n",
      "  \"10 in version 0.20 to 100 in 0.22.\", FutureWarning)\n"
     ]
    },
    {
     "data": {
      "text/plain": [
       "0.45877898530966144"
      ]
     },
     "execution_count": 68,
     "metadata": {},
     "output_type": "execute_result"
    }
   ],
   "source": [
    "from sklearn.ensemble import RandomForestRegressor\n",
    "from sklearn.metrics import mean_squared_error\n",
    "\n",
    "model = RandomForestRegressor()       #cria\n",
    "model.fit(X_train, y_train)        #treina \n",
    "y_pred = model.predict(X_test)      #testa \n",
    "\n",
    "1 - mean_squared_error(y_test, y_pred) / np.var(y_test)"
   ]
  },
  {
   "cell_type": "code",
   "execution_count": null,
   "metadata": {},
   "outputs": [],
   "source": []
  },
  {
   "cell_type": "code",
   "execution_count": null,
   "metadata": {},
   "outputs": [],
   "source": []
  },
  {
   "cell_type": "code",
   "execution_count": null,
   "metadata": {},
   "outputs": [],
   "source": []
  },
  {
   "cell_type": "code",
   "execution_count": null,
   "metadata": {},
   "outputs": [],
   "source": []
  }
 ],
 "metadata": {
  "kernelspec": {
   "display_name": "Python 3",
   "language": "python",
   "name": "python3"
  },
  "language_info": {
   "codemirror_mode": {
    "name": "ipython",
    "version": 3
   },
   "file_extension": ".py",
   "mimetype": "text/x-python",
   "name": "python",
   "nbconvert_exporter": "python",
   "pygments_lexer": "ipython3",
   "version": "3.6.4"
  }
 },
 "nbformat": 4,
 "nbformat_minor": 2
}
